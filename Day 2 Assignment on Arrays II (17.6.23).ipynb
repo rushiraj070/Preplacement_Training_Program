{
 "cells": [
  {
   "cell_type": "markdown",
   "id": "6de151c5-9765-4fdc-8721-c0fb17083e3b",
   "metadata": {
    "tags": []
   },
   "source": [
    "# Assignment on Arrays II (17.6.23)"
   ]
  },
  {
   "cell_type": "code",
   "execution_count": null,
   "id": "33dcc13b-072a-4299-8225-f314a12655f5",
   "metadata": {},
   "outputs": [],
   "source": []
  },
  {
   "cell_type": "markdown",
   "id": "3b97ac01-360c-4cc5-a91e-595aa973dba8",
   "metadata": {},
   "source": [
    "**Question 1**\n",
    "Given an integer array nums of 2n integers, group these integers into n pairs (a1, b1), (a2, b2),..., (an, bn) such that the sum of min(ai, bi) for all i is maximized. Return the maximized sum.\n",
    "\n",
    "**Example 1:**\n",
    "Input: nums = [1,4,3,2]\n",
    "Output: 4\n",
    "\n",
    "**Explanation:** All possible pairings (ignoring the ordering of elements) are:\n",
    "\n",
    "1. (1, 4), (2, 3) -> min(1, 4) + min(2, 3) = 1 + 2 = 3\n",
    "2. (1, 3), (2, 4) -> min(1, 3) + min(2, 4) = 1 + 2 = 3\n",
    "3. (1, 2), (3, 4) -> min(1, 2) + min(3, 4) = 1 + 3 = 4\n",
    "So the maximum possible sum is 4"
   ]
  },
  {
   "cell_type": "code",
   "execution_count": 4,
   "id": "04b98661-17e9-425f-80b0-f7fda2a52368",
   "metadata": {},
   "outputs": [],
   "source": [
    "def arrayPairSum(nums):\n",
    "    nums.sort()             # Sort the list in ascending order\n",
    "    result = 0\n",
    "    for i in range(0, len(nums), 2):\n",
    "        result += nums[i]\n",
    "    return result"
   ]
  },
  {
   "cell_type": "raw",
   "id": "fe247fa9-7741-464f-ba97-220cd266414e",
   "metadata": {},
   "source": [
    "This function takes an input list nums of 2n integers, sorts the list in ascending order, and then iterates through the list, adding every other element to the result. The final result is the maximized sum of min(ai, bi) for all i."
   ]
  },
  {
   "cell_type": "code",
   "execution_count": 2,
   "id": "cbb83b85-e9e7-4dab-adef-12031707d49a",
   "metadata": {},
   "outputs": [
    {
     "data": {
      "text/plain": [
       "4"
      ]
     },
     "execution_count": 2,
     "metadata": {},
     "output_type": "execute_result"
    }
   ],
   "source": [
    "nums = [1,4,3,2]\n",
    "arrayPairSum(nums)"
   ]
  },
  {
   "cell_type": "code",
   "execution_count": 3,
   "id": "bbbcfb07-4d40-48ff-8718-4fa5eab12fce",
   "metadata": {},
   "outputs": [
    {
     "data": {
      "text/plain": [
       "12"
      ]
     },
     "execution_count": 3,
     "metadata": {},
     "output_type": "execute_result"
    }
   ],
   "source": [
    "nums = [5,6,7,8]\n",
    "arrayPairSum(nums)"
   ]
  },
  {
   "cell_type": "code",
   "execution_count": null,
   "id": "7c404cbd-326b-4828-850e-bd0aa56aaf9c",
   "metadata": {},
   "outputs": [],
   "source": []
  },
  {
   "cell_type": "markdown",
   "id": "af114adf-3532-40f8-a601-d9225c0315f0",
   "metadata": {},
   "source": [
    "**Question 2**\n",
    "Alice has n candies, where the ith candy is of type candyType[i]. Alice noticed that she started to gain weight, so she visited a doctor. \n",
    "\n",
    "The doctor advised Alice to only eat n / 2 of the candies she has (n is always even). Alice likes her candies very much, and she wants to eat the maximum number of different types of candies while still following the doctor's advice. \n",
    "\n",
    "Given the integer array candyType of length n, return the maximum number of different types of candies she can eat if she only eats n / 2 of them.\n",
    "\n",
    "**Example 1:**\n",
    "Input: candyType = [1,1,2,2,3,3]\n",
    "Output: 3\n",
    "\n",
    "**Explanation**: Alice can only eat 6 / 2 = 3 candies. Since there are only 3 types, she can eat one of each type.\n"
   ]
  },
  {
   "cell_type": "code",
   "execution_count": 5,
   "id": "4c6bab11-2d00-44de-b73d-51a2019091d5",
   "metadata": {},
   "outputs": [],
   "source": [
    "def distributeCandies(candyType):\n",
    "    n = len(candyType)\n",
    "    unique_candies = len(set(candyType))\n",
    "    return min(unique_candies, n//2)"
   ]
  },
  {
   "cell_type": "raw",
   "id": "037246df-0efb-4f73-887d-5a068e952fa5",
   "metadata": {},
   "source": [
    "This function takes an input list candyType of length n, representing the types of candies Alice has. The function calculates the number of unique candy types using the set data structure and returns the minimum of the number of unique candy types and n/2, which is the maximum number of candies Alice can eat according to the doctor’s advice."
   ]
  },
  {
   "cell_type": "code",
   "execution_count": 6,
   "id": "ac4d59e3-dbef-4762-8539-84f52e2fb20d",
   "metadata": {},
   "outputs": [
    {
     "data": {
      "text/plain": [
       "3"
      ]
     },
     "execution_count": 6,
     "metadata": {},
     "output_type": "execute_result"
    }
   ],
   "source": [
    "candyType = [1,1,2,2,3,3]\n",
    "distributeCandies(candyType)"
   ]
  },
  {
   "cell_type": "code",
   "execution_count": 10,
   "id": "783f8aaf-1c50-431b-939d-89ec569f7b60",
   "metadata": {},
   "outputs": [
    {
     "data": {
      "text/plain": [
       "4"
      ]
     },
     "execution_count": 10,
     "metadata": {},
     "output_type": "execute_result"
    }
   ],
   "source": [
    "candyType = [1,1,1,3,3,3,4,4,4,5]\n",
    "distributeCandies(candyType)"
   ]
  },
  {
   "cell_type": "code",
   "execution_count": null,
   "id": "55cd61b1-c2b6-4185-9ed4-af763a1580e9",
   "metadata": {},
   "outputs": [],
   "source": []
  },
  {
   "cell_type": "markdown",
   "id": "99e3b0be-0ff1-4bcb-9de5-9fdc4c9484bd",
   "metadata": {},
   "source": [
    "**Question 3**\n",
    "We define a harmonious array as an array where the difference between its maximum value\n",
    "and its minimum value is exactly 1.\n",
    "\n",
    "Given an integer array nums, return the length of its longest harmonious subsequence\n",
    "among all its possible subsequences.\n",
    "\n",
    "A subsequence of an array is a sequence that can be derived from the array by deleting some or no elements without changing the order of the remaining elements.\n",
    "\n",
    "**Example 1:**\n",
    "Input: nums = [1,3,2,2,5,2,3,7]\n",
    "Output: 5\n",
    "\n",
    "**Explanation:** The longest harmonious subsequence is [3,2,2,2,3]."
   ]
  },
  {
   "cell_type": "code",
   "execution_count": 11,
   "id": "7e54f12d-8cde-4bd4-af19-2a983d5b1f6b",
   "metadata": {},
   "outputs": [],
   "source": [
    "def findLHS(nums):\n",
    "    from collections import Counter  #A counter is a container that stores elements as dictionary keys, and their counts are stored as dictionary values.\n",
    "    count = Counter(nums)\n",
    "    result = 0\n",
    "    for num in count:\n",
    "        if num + 1 in count:\n",
    "            result = max(result, count[num] + count[num + 1])\n",
    "    return result"
   ]
  },
  {
   "cell_type": "raw",
   "id": "7ec5e12d-b4b5-441b-86c8-c1ee7e426785",
   "metadata": {},
   "source": [
    "This function takes an input list nums of integers, representing the array to find the longest harmonious subsequence in. The function uses the Counter data structure from the collections module to count the occurrences of each number in the input list. Then, it iterates through the keys of the counter, checking if the key plus one is also in the counter. If it is, it updates the result with the sum of the counts of the current key and the key plus one. The final result is the length of the longest harmonious subsequence."
   ]
  },
  {
   "cell_type": "code",
   "execution_count": 12,
   "id": "7464c99f-4c49-423a-bd8e-979d8e9f7c57",
   "metadata": {},
   "outputs": [
    {
     "data": {
      "text/plain": [
       "5"
      ]
     },
     "execution_count": 12,
     "metadata": {},
     "output_type": "execute_result"
    }
   ],
   "source": [
    "nums = [1,3,2,2,5,2,3,7]\n",
    "findLHS(nums)"
   ]
  },
  {
   "cell_type": "code",
   "execution_count": 13,
   "id": "3804ddad-e503-4e9b-9e06-aead882d8af8",
   "metadata": {},
   "outputs": [
    {
     "data": {
      "text/plain": [
       "6"
      ]
     },
     "execution_count": 13,
     "metadata": {},
     "output_type": "execute_result"
    }
   ],
   "source": [
    "nums = [1,1,1,3,3,3,4,4,4,5]\n",
    "findLHS(nums)"
   ]
  },
  {
   "cell_type": "code",
   "execution_count": null,
   "id": "473e67fc-8839-473d-b2d4-8793b809780a",
   "metadata": {},
   "outputs": [],
   "source": []
  },
  {
   "cell_type": "markdown",
   "id": "d0da5409-f2cd-4f5a-87d8-e9ae2ad5ed33",
   "metadata": {},
   "source": [
    "**Question 4** You have a long flowerbed in which some of the plots are planted, and some are not.\n",
    "However, flowers cannot be planted in adjacent plots.\n",
    "Given an integer array flowerbed containing 0's and 1's, where 0 means empty and 1 means not empty, and an integer n, return true if n new flowers can be planted in the flowerbed without violating the no-adjacent-flowers rule and false otherwise.\n",
    "\n",
    "**Example 1:**\n",
    "Input: flowerbed = [1,0,0,0,1], n = 1\n",
    "Output: true"
   ]
  },
  {
   "cell_type": "code",
   "execution_count": 14,
   "id": "2b112347-094a-4732-acdf-afff0fab7e01",
   "metadata": {},
   "outputs": [],
   "source": [
    "def canPlaceFlowers(flowerbed, n):\n",
    "    count = 0\n",
    "    flowerbed = [0] + flowerbed + [0]\n",
    "    for i in range(1, len(flowerbed)-1):\n",
    "        if flowerbed[i-1] == flowerbed[i] == flowerbed[i+1] == 0:\n",
    "            flowerbed[i] = 1\n",
    "            count += 1\n",
    "    return count >= n"
   ]
  },
  {
   "cell_type": "raw",
   "id": "4292edc7-2492-4a13-8aef-7fab5c7bc03e",
   "metadata": {},
   "source": [
    "This function takes an input list flowerbed of integers, representing the current state of the flowerbed, where 0 means empty and 1 means not empty, and an integer n, representing the number of new flowers to be planted. The function adds a 0 to the beginning and end of the flowerbed list to simplify the logic, and then iterates through the list, checking if the current plot and its adjacent plots are all empty. If they are, it plants a new flower in the current plot and increments the count variable. The final result is a boolean value indicating whether the number of new flowers that can be planted is greater than or equal to n."
   ]
  },
  {
   "cell_type": "code",
   "execution_count": 15,
   "id": "25d6ae98-af7c-4047-86a7-6dccab01d178",
   "metadata": {},
   "outputs": [
    {
     "data": {
      "text/plain": [
       "True"
      ]
     },
     "execution_count": 15,
     "metadata": {},
     "output_type": "execute_result"
    }
   ],
   "source": [
    "flowerbed = [1,0,0,0,1]\n",
    "canPlaceFlowers(flowerbed,1)"
   ]
  },
  {
   "cell_type": "code",
   "execution_count": 16,
   "id": "95d377a7-bf6e-4db6-b966-c51893304ca4",
   "metadata": {},
   "outputs": [
    {
     "data": {
      "text/plain": [
       "False"
      ]
     },
     "execution_count": 16,
     "metadata": {},
     "output_type": "execute_result"
    }
   ],
   "source": [
    "flowerbed = [1,0,1,0,1]\n",
    "canPlaceFlowers(flowerbed,1)"
   ]
  },
  {
   "cell_type": "code",
   "execution_count": null,
   "id": "86f1a1e6-24bf-4e37-9c3d-ef16bca5aec0",
   "metadata": {},
   "outputs": [],
   "source": []
  },
  {
   "cell_type": "markdown",
   "id": "573b831a-9cc0-43af-81f0-5dc6498c89e1",
   "metadata": {},
   "source": [
    "**Question 5**\n",
    "Given an integer array nums, find three numbers whose product is maximum and return the maximum product.\n",
    "\n",
    "**Example 1:**\n",
    "Input: nums = [1,2,3]\n",
    "Output: 6"
   ]
  },
  {
   "cell_type": "code",
   "execution_count": 31,
   "id": "fe71d52e-1973-49bc-ae29-4eb0aa928553",
   "metadata": {},
   "outputs": [],
   "source": [
    "def maxProduct(nums):\n",
    "    nums.sort()\n",
    "    return f\"The three maximum integers within array are {nums[-1], nums[-2], nums[-3]} having maximum product {nums[-1]*nums[-2]*nums[-3]}.\""
   ]
  },
  {
   "cell_type": "raw",
   "id": "05e82583-c060-432a-88d3-d6d241914baf",
   "metadata": {},
   "source": [
    "This function takes an input list nums of integers, sorts the list in ascending order, and then calculates the maximum product of three numbers by taking the product of the last three numbers in the sorted list and the product of the first two numbers and the last number in the sorted list. The final result is the maximum of these two products."
   ]
  },
  {
   "cell_type": "code",
   "execution_count": 32,
   "id": "551218a3-d8a8-48d7-8d43-fd45cf7df84e",
   "metadata": {},
   "outputs": [
    {
     "data": {
      "text/plain": [
       "'The three maximum integers within array are (3, 2, 1) having maximum product 6.'"
      ]
     },
     "execution_count": 32,
     "metadata": {},
     "output_type": "execute_result"
    }
   ],
   "source": [
    "nums = [1,2,3]\n",
    "maxProduct(nums)"
   ]
  },
  {
   "cell_type": "code",
   "execution_count": 33,
   "id": "995ee85b-c942-4074-bdd0-8d9960bd91a0",
   "metadata": {},
   "outputs": [
    {
     "data": {
      "text/plain": [
       "'The three maximum integers within array are (5, 4, 3) having maximum product 60.'"
      ]
     },
     "execution_count": 33,
     "metadata": {},
     "output_type": "execute_result"
    }
   ],
   "source": [
    "nums = [1,2,3,5,4,2,1,3]\n",
    "maxProduct(nums)"
   ]
  },
  {
   "cell_type": "code",
   "execution_count": null,
   "id": "06adba26-933c-4d98-88a3-e6ecf51f2ab6",
   "metadata": {},
   "outputs": [],
   "source": []
  },
  {
   "cell_type": "markdown",
   "id": "85d72f85-f8a3-4520-b390-cf922c32d203",
   "metadata": {},
   "source": [
    "**Question 6**\n",
    "Given an array of integers nums which is sorted in ascending order, and an integer target,\n",
    "write a function to search target in nums. If target exists, then return its index. Otherwise,\n",
    "return -1.\n",
    "\n",
    "You must write an algorithm with O(log n) runtime complexity.\n",
    "\n",
    "Input: nums = [-1,0,3,5,9,12], target = 9\n",
    "Output: 4\n",
    "\n",
    "**Explanation:** 9 exists in nums and its index is 4"
   ]
  },
  {
   "cell_type": "code",
   "execution_count": 34,
   "id": "676a13ea-2ffa-4668-b129-b6cdbcd196c3",
   "metadata": {},
   "outputs": [],
   "source": [
    "def existTarget(nums, target):\n",
    "    nums.sort()\n",
    "    if target in nums:\n",
    "        return nums.index(target)\n",
    "    else:\n",
    "        return -1"
   ]
  },
  {
   "cell_type": "code",
   "execution_count": 36,
   "id": "3a935f9b-98d1-4b2c-91ed-fab7be5a8cbc",
   "metadata": {},
   "outputs": [
    {
     "data": {
      "text/plain": [
       "4"
      ]
     },
     "execution_count": 36,
     "metadata": {},
     "output_type": "execute_result"
    }
   ],
   "source": [
    "nums, target = [-1,0,3,5,9,12], 9\n",
    "existTarget(nums, target)"
   ]
  },
  {
   "cell_type": "code",
   "execution_count": 40,
   "id": "48b8dea9-663f-49d1-8927-7c71daf724ed",
   "metadata": {},
   "outputs": [
    {
     "data": {
      "text/plain": [
       "7"
      ]
     },
     "execution_count": 40,
     "metadata": {},
     "output_type": "execute_result"
    }
   ],
   "source": [
    "nums, target = [1,2,3,5,4,2,1,3], 5\n",
    "existTarget(nums, target)"
   ]
  },
  {
   "cell_type": "raw",
   "id": "3f693134-abce-4bbb-a4e3-44b6ddd16bf6",
   "metadata": {},
   "source": [
    "def search(nums, target):\n",
    "    left, right = 0, len(nums) - 1\n",
    "    while left <= right:\n",
    "        mid = (left + right) // 2\n",
    "        if nums[mid] == target:\n",
    "            return mid\n",
    "        elif nums[mid] < target:\n",
    "            left = mid + 1\n",
    "        else:\n",
    "            right = mid - 1\n",
    "    return -1\n",
    "    \n",
    "This function takes an input list nums of integers sorted in ascending order and an integer target, representing the value to search for in the list. The function uses a binary search algorithm to search for the target value in the list. It initializes two pointers, left and right, to the first and last elements of the list, respectively. Then, it enters a loop that continues until the left pointer is greater than the right pointer. In each iteration of the loop, it calculates the index of the middle element between the left and right pointers and checks if the value at this index is equal to the target value. If it is, it returns the index. If it is less than the target value, it moves the left pointer to the right of the middle element. If it is greater than the target value, it moves the right pointer to the left of the middle element. If the target value is not found in the list, the function returns -1."
   ]
  },
  {
   "cell_type": "code",
   "execution_count": null,
   "id": "d4644f92-5c5d-4760-bd30-604b1a1b0cae",
   "metadata": {},
   "outputs": [],
   "source": []
  },
  {
   "cell_type": "markdown",
   "id": "24553e5a-e790-447e-acc9-1bb984903d32",
   "metadata": {},
   "source": [
    "**Question 7**\n",
    "An array is monotonic if it is either monotone increasing or monotone decreasing.\n",
    "\n",
    "An array nums is monotone increasing if for all i <= j, nums[i] <= nums[j]. An array nums is\n",
    "monotone decreasing if for all i <= j, nums[i] >= nums[j].\n",
    "\n",
    "Given an integer array nums, return true if the given array is monotonic, or false otherwise.\n",
    "\n",
    "**Example 1:**\n",
    "Input: nums = [1,2,2,3]\n",
    "Output: true"
   ]
  },
  {
   "cell_type": "code",
   "execution_count": 41,
   "id": "b6bd942d-5fb0-4958-9166-8900a2cd3594",
   "metadata": {},
   "outputs": [],
   "source": [
    "def isMonotonic(nums):\n",
    "    increasing = decreasing = True\n",
    "\n",
    "    for i in range(len(nums) - 1):\n",
    "        if nums[i] > nums[i + 1]:\n",
    "            increasing = False\n",
    "        if nums[i] < nums[i + 1]:\n",
    "            decreasing = False\n",
    "\n",
    "    return increasing or decreasing"
   ]
  },
  {
   "cell_type": "markdown",
   "id": "e037e607-8f97-4c8b-ab8f-eee6f42ae032",
   "metadata": {},
   "source": [
    "This function takes an input list nums of integers and checks if the list is monotonic. It initializes two boolean variables, increasing and decreasing, to True. Then, it iterates through the list, checking if the current element is greater than or less than the next element. If the current element is greater than the next element, it sets the increasing variable to False. If the current element is less than the next element, it sets the decreasing variable to False. The final result is a boolean value indicating whether the list is either monotone increasing or monotone decreasing."
   ]
  },
  {
   "cell_type": "code",
   "execution_count": 42,
   "id": "a794e120-e7ea-441a-90c6-fbb76cc72aa4",
   "metadata": {},
   "outputs": [
    {
     "data": {
      "text/plain": [
       "True"
      ]
     },
     "execution_count": 42,
     "metadata": {},
     "output_type": "execute_result"
    }
   ],
   "source": [
    "nums = [1,2,2,3]\n",
    "isMonotonic(nums)"
   ]
  },
  {
   "cell_type": "code",
   "execution_count": 43,
   "id": "36ae21ce-eaef-4a6c-9875-58317ed2eabe",
   "metadata": {},
   "outputs": [
    {
     "data": {
      "text/plain": [
       "False"
      ]
     },
     "execution_count": 43,
     "metadata": {},
     "output_type": "execute_result"
    }
   ],
   "source": [
    "nums = [1,2,3,2,1]\n",
    "isMonotonic(nums)"
   ]
  },
  {
   "cell_type": "code",
   "execution_count": null,
   "id": "b1827b5f-53db-4df0-a4c1-1e40d517a44c",
   "metadata": {},
   "outputs": [],
   "source": []
  },
  {
   "cell_type": "markdown",
   "id": "f6a032c2-7e61-458b-b4c1-34e639448470",
   "metadata": {},
   "source": [
    "**Question 8**\n",
    "You are given an integer array nums and an integer k.\n",
    "\n",
    "In one operation, you can choose any index i where 0 <= i < nums.length and change nums[i] to nums[i] + x where x is an integer from the range [-k, k]. You can apply this operation at most once for each index i.\n",
    "\n",
    "The score of nums is the difference between the maximum and minimum elements in nums.\n",
    "\n",
    "Return the minimum score of nums after applying the mentioned operation at most once for each index in it.\n",
    "\n",
    "**Example 1:**\n",
    "Input: nums = [1], k = 0\n",
    "Output: 0\n",
    "\n",
    "**Explanation:** The score is max(nums) - min(nums) = 1 - 1 = 0."
   ]
  },
  {
   "cell_type": "code",
   "execution_count": 44,
   "id": "b5e32d81-50e6-410e-8b97-ed90ff3ed8fe",
   "metadata": {},
   "outputs": [],
   "source": [
    "def smallestRangeI(nums, k):\n",
    "    return max(0, max(nums) - min(nums) - 2 * k)"
   ]
  },
  {
   "cell_type": "markdown",
   "id": "03443fbf-a18b-4cf2-8383-0a0c56134bc9",
   "metadata": {},
   "source": [
    "This function takes an input list nums of integers and an integer k, representing the range of values that can be added to or subtracted from each element in the list. The function calculates the maximum and minimum values in the list, subtracts them, and then subtracts 2 * k from the result. The final result is the maximum of this value and 0, representing the minimum score of nums after applying the mentioned operation at most once for each index in it."
   ]
  },
  {
   "cell_type": "code",
   "execution_count": 48,
   "id": "38e2611a-1509-4853-b621-9872f4d98694",
   "metadata": {},
   "outputs": [
    {
     "data": {
      "text/plain": [
       "0"
      ]
     },
     "execution_count": 48,
     "metadata": {},
     "output_type": "execute_result"
    }
   ],
   "source": [
    "nums = [1]\n",
    "k = 0\n",
    "smallestRangeI(nums,k)"
   ]
  },
  {
   "cell_type": "code",
   "execution_count": 47,
   "id": "962bc2b6-4fb0-4a7b-8cd9-67e39d9ceca0",
   "metadata": {},
   "outputs": [
    {
     "data": {
      "text/plain": [
       "5"
      ]
     },
     "execution_count": 47,
     "metadata": {},
     "output_type": "execute_result"
    }
   ],
   "source": [
    "nums, k = [1,4,10,2,1],2\n",
    "smallestRangeI(nums,k)"
   ]
  },
  {
   "cell_type": "code",
   "execution_count": null,
   "id": "f0ba6cd4-1243-4b2f-b882-58ec87896f7c",
   "metadata": {},
   "outputs": [],
   "source": []
  },
  {
   "cell_type": "code",
   "execution_count": null,
   "id": "23540609-af55-4650-b5b4-1a4b1d1bb216",
   "metadata": {},
   "outputs": [],
   "source": []
  }
 ],
 "metadata": {
  "kernelspec": {
   "display_name": "Python 3 (ipykernel)",
   "language": "python",
   "name": "python3"
  },
  "language_info": {
   "codemirror_mode": {
    "name": "ipython",
    "version": 3
   },
   "file_extension": ".py",
   "mimetype": "text/x-python",
   "name": "python",
   "nbconvert_exporter": "python",
   "pygments_lexer": "ipython3",
   "version": "3.10.8"
  }
 },
 "nbformat": 4,
 "nbformat_minor": 5
}
