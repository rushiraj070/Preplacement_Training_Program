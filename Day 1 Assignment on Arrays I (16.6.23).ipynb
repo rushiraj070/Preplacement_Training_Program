{
 "cells": [
  {
   "cell_type": "markdown",
   "id": "6cd6ae0c-e5c5-415e-9960-e4a266b7d1e1",
   "metadata": {},
   "source": [
    "# Assignment on Arrays I (16.6.23)"
   ]
  },
  {
   "cell_type": "code",
   "execution_count": null,
   "id": "7ec97ae8-aa9e-4023-af51-b309543c491b",
   "metadata": {},
   "outputs": [],
   "source": []
  },
  {
   "cell_type": "markdown",
   "id": "1a968e78-35f3-40cd-a20e-37797a1ec3c6",
   "metadata": {},
   "source": [
    "**Q1.** Given an array of integers nums and an integer target, return indices of the two numbers such that they add up to target.\n",
    "\n",
    "You may assume that each input would have exactly one solution, and you may not use the same element twice.\n",
    "\n",
    "You can return the answer in any order.\n",
    "\n",
    "**Example:**\n",
    "Input: nums = [2,7,11,15], target = 9\n",
    "Output0 [0,1]\n",
    "\n",
    "**Explanation:** Because nums[0] + nums[1] == 9, we return [0, 1]"
   ]
  },
  {
   "cell_type": "code",
   "execution_count": 11,
   "id": "0c66337f-9ad4-4480-ac00-f1a36d569414",
   "metadata": {},
   "outputs": [],
   "source": [
    "def target_sum(nums: list[int],target:int)->list:\n",
    "    h = {}\n",
    "    for i, num in enumerate(nums):\n",
    "        n = target - num\n",
    "        if n not in h:\n",
    "            h[num] = i\n",
    "        else:\n",
    "            return [h[n], i]"
   ]
  },
  {
   "cell_type": "raw",
   "id": "5d60ccd4-139b-4814-b79f-bf456f4346a1",
   "metadata": {},
   "source": [
    "This function uses a hash table to keep track of the indices of the numbers in the input array. For each number in the array, it checks if the complement (target - num) is already in the hash table. If it is, it returns the indices of the current number and its complement. Otherwise, it adds the current number and its index to the hash table and continues to the next number.\n",
    "\n",
    "h is a hash table (implemented as a dictionary in Python) that is used to keep track of the indices of the numbers in the input array nums. For each number num in nums, the function checks if its complement (target - num) is already in the hash table. If it is, it means that there are two numbers in the array that add up to the target value, and their indices are returned. Otherwise, the current number num and its index i are added to the hash table and the function continues to the next number.\n",
    "\n",
    "The purpose of using a hash table is to allow for fast lookups of the complement of each number. This makes it possible to solve the problem in linear time, as opposed to a quadratic time solution that would involve checking all pairs of numbers."
   ]
  },
  {
   "cell_type": "code",
   "execution_count": 12,
   "id": "aa86542e-38a7-4ac0-9b4e-41a9d7e459f0",
   "metadata": {},
   "outputs": [
    {
     "data": {
      "text/plain": [
       "[0, 1]"
      ]
     },
     "execution_count": 12,
     "metadata": {},
     "output_type": "execute_result"
    }
   ],
   "source": [
    "nums = [2,7,11,15]\n",
    "target = 9\n",
    "\n",
    "target_sum(nums,target)"
   ]
  },
  {
   "cell_type": "code",
   "execution_count": 13,
   "id": "ccc6ee95-0286-42f9-85ea-292444f1856c",
   "metadata": {},
   "outputs": [
    {
     "data": {
      "text/plain": [
       "[0, 3]"
      ]
     },
     "execution_count": 13,
     "metadata": {},
     "output_type": "execute_result"
    }
   ],
   "source": [
    "nums = [5,8,9,11,2,5]\n",
    "target = 16\n",
    "\n",
    "target_sum(nums,target)"
   ]
  },
  {
   "cell_type": "code",
   "execution_count": null,
   "id": "bdbc461a-959e-48c1-a593-564356628baa",
   "metadata": {},
   "outputs": [],
   "source": []
  },
  {
   "cell_type": "markdown",
   "id": "8b1921f4-3087-46b4-8d14-6272b2b0ce7e",
   "metadata": {},
   "source": [
    "**Q2.** Given an integer array nums and an integer val, remove all occurrences of val in nums in-place. The order of the elements may be changed. Then return the number of elements in nums which are not equal to val.\n",
    "\n",
    "Consider the number of elements in nums which are not equal to val be k, to get accepted, you need to do the following things:\n",
    "\n",
    "- Change the array nums such that the first k elements of nums contain the elements which are not equal to val. The remaining elements of nums are not important as well as the size of nums.\n",
    "- Return k.\n",
    "\n",
    "**Example :**\n",
    "Input: nums = [3,2,2,3], val = 3\n",
    "Output: 2, nums = [2,2,_*,_*]\n",
    "\n",
    "**Explanation:** Your function should return k = 2, with the first two elements of nums being 2. It does not matter what you leave beyond the returned k (hence they are underscores)"
   ]
  },
  {
   "cell_type": "code",
   "execution_count": 20,
   "id": "7e731c14-f8b6-409b-845a-6e881867ab82",
   "metadata": {},
   "outputs": [],
   "source": [
    "def removeElement(nums:list[int], val:int) -> list:\n",
    "    k = 0\n",
    "    for i in range(len(nums)):\n",
    "        if nums[i] != val:\n",
    "            nums[k] = nums[i]\n",
    "            k += 1\n",
    "    return k, nums"
   ]
  },
  {
   "cell_type": "raw",
   "id": "62e27ccf-6980-43cd-aa8e-8f0bf85191df",
   "metadata": {},
   "source": [
    "This function uses two pointers, i and k, to iterate over the input array nums. The pointer i is used to scan the entire array, while the pointer k keeps track of the position of the first element that is equal to val. For each element nums[i] that is not equal to val, the function moves it to the position k and increments k. This way, all elements that are not equal to val are moved to the front of the array, while all elements equal to val are left at the end. Finally, the function returns the value of k, which is the number of elements in nums that are not equal to val."
   ]
  },
  {
   "cell_type": "code",
   "execution_count": 21,
   "id": "10944394-c522-4043-bcb7-80815a773f89",
   "metadata": {},
   "outputs": [
    {
     "data": {
      "text/plain": [
       "(2, [2, 2, 2, 3])"
      ]
     },
     "execution_count": 21,
     "metadata": {},
     "output_type": "execute_result"
    }
   ],
   "source": [
    "nums = [3, 2, 2, 3]\n",
    "val = 3\n",
    "\n",
    "removeElement(nums, val)"
   ]
  },
  {
   "cell_type": "code",
   "execution_count": 22,
   "id": "1be3f0f7-9e65-465a-bd25-0628385750c1",
   "metadata": {},
   "outputs": [
    {
     "data": {
      "text/plain": [
       "(9, [2, 3, 4, 2, 3, 4, 2, 3, 4, 2, 3, 4])"
      ]
     },
     "execution_count": 22,
     "metadata": {},
     "output_type": "execute_result"
    }
   ],
   "source": [
    "nums = [1,2,3,4,1,2,3,4,1,2,3,4]\n",
    "val = 1\n",
    "\n",
    "removeElement(nums, val)"
   ]
  },
  {
   "cell_type": "code",
   "execution_count": null,
   "id": "6b2b8e13-b05c-4f31-aea7-59123367ccc5",
   "metadata": {},
   "outputs": [],
   "source": []
  },
  {
   "cell_type": "markdown",
   "id": "0c64ac5e-4f37-407a-9407-365ade17f8e6",
   "metadata": {},
   "source": [
    "**Q3.** Given a sorted array of distinct integers and a target value, return the index if the target is found. If not, return the index where it would be if it were inserted in order.\n",
    "\n",
    "You must write an algorithm with O(log n) runtime complexity.\n",
    "\n",
    "**Example 1:**\n",
    "Input: nums = [1,3,5,6], target = 5\n",
    "\n",
    "Output: 2"
   ]
  },
  {
   "cell_type": "code",
   "execution_count": 23,
   "id": "b965ba04-4161-482e-ad65-166a6cbc0281",
   "metadata": {},
   "outputs": [],
   "source": [
    "def searchInsert(nums, target):\n",
    "    left, right = 0, len(nums) - 1\n",
    "    while left <= right:\n",
    "        mid = (left + right) // 2\n",
    "        if nums[mid] == target:\n",
    "            return mid\n",
    "        elif nums[mid] < target:\n",
    "            left = mid + 1\n",
    "        else:\n",
    "            right = mid - 1\n",
    "    return left"
   ]
  },
  {
   "cell_type": "raw",
   "id": "25c2c667-9480-4905-a2ce-68e79bca1469",
   "metadata": {},
   "source": [
    "This function uses binary search to find the index of the target value in the input array nums. If the target value is found, its index is returned. Otherwise, the function returns the index where the target value would be inserted to maintain the sorted order of the array. The binary search algorithm has a logarithmic time complexity, which meets the requirement of the problem."
   ]
  },
  {
   "cell_type": "code",
   "execution_count": 24,
   "id": "af5af965-e8dc-4e31-a12a-b0990c8a5cb1",
   "metadata": {},
   "outputs": [
    {
     "data": {
      "text/plain": [
       "2"
      ]
     },
     "execution_count": 24,
     "metadata": {},
     "output_type": "execute_result"
    }
   ],
   "source": [
    "nums = [1, 3, 5, 6]\n",
    "target = 5\n",
    "\n",
    "searchInsert(nums, target)"
   ]
  },
  {
   "cell_type": "code",
   "execution_count": 26,
   "id": "757617cf-5dc7-40da-8ef2-293672e29efb",
   "metadata": {},
   "outputs": [
    {
     "data": {
      "text/plain": [
       "3"
      ]
     },
     "execution_count": 26,
     "metadata": {},
     "output_type": "execute_result"
    }
   ],
   "source": [
    "nums = [1, 2, 2, 3]\n",
    "target = 3\n",
    "\n",
    "searchInsert(nums, target)"
   ]
  },
  {
   "cell_type": "code",
   "execution_count": null,
   "id": "73635a78-4492-41b1-9a00-d2c6e84b9343",
   "metadata": {},
   "outputs": [],
   "source": []
  },
  {
   "cell_type": "markdown",
   "id": "5201ad73-e708-41d3-90bc-0cb93f491968",
   "metadata": {},
   "source": [
    "**Q4.** You are given a large integer represented as an integer array digits, where each digits[i] is the ith digit of the integer. The digits are ordered from most significant to least significant in left-to-right order. The large integer does not contain any leading 0's.\n",
    "\n",
    "Increment the large integer by one and return the resulting array of digits.\n",
    "\n",
    "**Example 1:**\n",
    "Input: digits = [1,2,3]\n",
    "Output: [1,2,4]\n",
    "\n",
    "**Explanation:** The array represents the integer 123.\n",
    "\n",
    "Incrementing by one gives 123 + 1 = 124.\n",
    "Thus, the result should be [1,2,4]."
   ]
  },
  {
   "cell_type": "code",
   "execution_count": 29,
   "id": "013b0927-49fb-4c93-b300-9a84e8d23a60",
   "metadata": {},
   "outputs": [],
   "source": [
    "def plusOne(list):\n",
    "    carry = 1\n",
    "    for i in range(len(list)-1, -1, -1):\n",
    "        list[i] += carry\n",
    "        if list[i] < 10:\n",
    "            carry = 0\n",
    "            break\n",
    "        else:\n",
    "            list[i] = 0\n",
    "    if carry == 1:\n",
    "        list.insert(0, 1)\n",
    "    return list"
   ]
  },
  {
   "cell_type": "raw",
   "id": "812393c2-da48-4a29-a030-1cb96f045ba9",
   "metadata": {},
   "source": [
    "This function iterates over the input array digits in reverse order and adds one to the last digit. If the resulting digit is less than 10, the function is done and returns the updated array. Otherwise, the digit is set to 0 and a carry of 1 is propagated to the next digit. If all digits are 9 and a carry of 1 is still present after processing all digits, a new digit 1 is inserted at the beginning of the array."
   ]
  },
  {
   "cell_type": "code",
   "execution_count": 30,
   "id": "85b419ad-0a67-4ee5-943b-e43323826b88",
   "metadata": {},
   "outputs": [
    {
     "data": {
      "text/plain": [
       "[1, 2, 4]"
      ]
     },
     "execution_count": 30,
     "metadata": {},
     "output_type": "execute_result"
    }
   ],
   "source": [
    "digits = [1, 2, 3]\n",
    "\n",
    "plusOne(digits)"
   ]
  },
  {
   "cell_type": "code",
   "execution_count": 31,
   "id": "1bd1f6cb-deed-402d-af3d-4a195a183da6",
   "metadata": {},
   "outputs": [
    {
     "data": {
      "text/plain": [
       "[1, 3, 5, 7]"
      ]
     },
     "execution_count": 31,
     "metadata": {},
     "output_type": "execute_result"
    }
   ],
   "source": [
    "nums = [1, 3, 5, 6]\n",
    "\n",
    "plusOne(nums)"
   ]
  },
  {
   "cell_type": "markdown",
   "id": "f7ee5625-0cf3-434a-987c-4f37d6a462c7",
   "metadata": {},
   "source": []
  },
  {
   "cell_type": "markdown",
   "id": "98f3c9aa-17e6-4bb7-858d-28d8e15e88a2",
   "metadata": {},
   "source": [
    "**Q5.** You are given two integer arrays nums1 and nums2, sorted in non-decreasing order, and two integers m and n, representing the number of elements in nums1 and nums2 respectively.\n",
    "\n",
    "Merge nums1 and nums2 into a single array sorted in non-decreasing order.\n",
    "\n",
    "The final sorted array should not be returned by the function, but instead be stored inside the array nums1. To accommodate this, nums1 has a length of m + n, where the first m elements denote the elements that should be merged, and the last n elements are set to 0 and should be ignored. nums2 has a length of n.\n",
    "\n",
    "**Example 1:**\n",
    "Input: nums1 = [1,2,3,0,0,0], m = 3, nums2 = [2,5,6], n = 3\n",
    "Output: [1,2,2,3,5,6]\n",
    "\n",
    "**Explanation:** The arrays we are merging are [1,2,3] and [2,5,6].\n",
    "The result of the merge is [1,2,2,3,5,6] with the underlined elements coming from nums1."
   ]
  },
  {
   "cell_type": "code",
   "execution_count": 36,
   "id": "80c0dd85-926f-4950-9cfc-ac1f4afdecca",
   "metadata": {},
   "outputs": [],
   "source": [
    "def merge(nums1, m, nums2, n):\n",
    "    i, j, k = m - 1, n - 1, m + n - 1\n",
    "    while i >= 0 and j >= 0:\n",
    "        if nums1[i] > nums2[j]:\n",
    "            nums1[k] = nums1[i]\n",
    "            i -= 1\n",
    "        else:\n",
    "            nums1[k] = nums2[j]\n",
    "            j -= 1\n",
    "        k -= 1\n",
    "    while j >= 0:\n",
    "        nums1[k] = nums2[j]\n",
    "        j -= 1\n",
    "        k -= 1\n",
    "    return nums1"
   ]
  },
  {
   "cell_type": "raw",
   "id": "00c97f93-002a-4aba-95e1-63b581219404",
   "metadata": {},
   "source": [
    "This function uses three pointers i, j, and k to iterate over the input arrays nums1 and nums2 and merge them into a single sorted array. The pointer i starts at the last element of the first m elements of nums1, the pointer j starts at the last element of nums2, and the pointer k starts at the last element of nums1. The function compares the elements pointed by i and j and moves the larger one to the position pointed by k. Then it decrements the corresponding pointer (i or j) and also decrements k. This process continues until one of the pointers i or j reaches the beginning of its array. If there are still elements left in nums2, they are moved to the remaining positions in nums1."
   ]
  },
  {
   "cell_type": "code",
   "execution_count": 37,
   "id": "7c70125a-f196-4d50-be47-0f0882a4a019",
   "metadata": {},
   "outputs": [
    {
     "data": {
      "text/plain": [
       "[1, 2, 2, 3, 5, 6]"
      ]
     },
     "execution_count": 37,
     "metadata": {},
     "output_type": "execute_result"
    }
   ],
   "source": [
    "nums1 = [1, 2, 3, 0, 0, 0]\n",
    "m = 3\n",
    "nums2 = [2, 5, 6]\n",
    "n = 3\n",
    "\n",
    "merge(nums1, m, nums2, n)"
   ]
  },
  {
   "cell_type": "code",
   "execution_count": null,
   "id": "2f236a35-2834-4710-ae31-a016beae1747",
   "metadata": {},
   "outputs": [],
   "source": []
  },
  {
   "cell_type": "markdown",
   "id": "f044e8af-b634-4074-b4ff-672c44e4b78e",
   "metadata": {},
   "source": [
    "**Q6.** Given an integer array nums, return true if any value appears at least twice in the array, and return false if every element is distinct.\n",
    "\n",
    "**Example 1:**\n",
    "Input: nums = [1,2,3,1]\n",
    "\n",
    "Output: true"
   ]
  },
  {
   "cell_type": "code",
   "execution_count": 38,
   "id": "f3969827-e5d5-4103-a0e9-2f726a03b845",
   "metadata": {},
   "outputs": [],
   "source": [
    "def containsDuplicate(nums):\n",
    "    seen = set()\n",
    "    for num in nums:\n",
    "        if num in seen:\n",
    "            return True\n",
    "        seen.add(num)\n",
    "    return False"
   ]
  },
  {
   "cell_type": "raw",
   "id": "1f89e496-47a9-4486-907a-1194bfd1731d",
   "metadata": {},
   "source": [
    "This function uses a hash set to keep track of the numbers that have been seen so far. For each number in the input array nums, it checks if the number is already in the hash set. If it is, it means that there is a duplicate and the function returns True. Otherwise, the number is added to the hash set and the function continues to the next number. If no duplicates are found after processing all numbers, the function returns False."
   ]
  },
  {
   "cell_type": "code",
   "execution_count": 39,
   "id": "68b9edd8-8a26-4e0e-8715-6bd3b5f65052",
   "metadata": {},
   "outputs": [
    {
     "data": {
      "text/plain": [
       "True"
      ]
     },
     "execution_count": 39,
     "metadata": {},
     "output_type": "execute_result"
    }
   ],
   "source": [
    "nums = [1, 2, 3, 1]\n",
    "\n",
    "containsDuplicate(nums)"
   ]
  },
  {
   "cell_type": "code",
   "execution_count": 40,
   "id": "9dd81873-5665-4026-b54e-1b2e8a79dd1d",
   "metadata": {},
   "outputs": [
    {
     "data": {
      "text/plain": [
       "False"
      ]
     },
     "execution_count": 40,
     "metadata": {},
     "output_type": "execute_result"
    }
   ],
   "source": [
    "nums = [1, 2, 3]\n",
    "\n",
    "containsDuplicate(nums)"
   ]
  },
  {
   "cell_type": "code",
   "execution_count": null,
   "id": "47eda6e0-b3e7-4a27-8424-de100c898079",
   "metadata": {},
   "outputs": [],
   "source": []
  },
  {
   "cell_type": "markdown",
   "id": "bdd292d5-e69b-4739-92c4-6dccf4c401c6",
   "metadata": {},
   "source": [
    "**Q7.** Given an integer array nums, move all 0's to the end of it while maintaining the relative order of the nonzero elements.\n",
    "\n",
    "Note that you must do this in-place without making a copy of the array.\n",
    "\n",
    "**Example 1:**\n",
    "Input: nums = [0,1,0,3,12]\n",
    "Output: [1,3,12,0,0]"
   ]
  },
  {
   "cell_type": "code",
   "execution_count": 42,
   "id": "26b9bfde-abdb-4f10-8405-6512f7229600",
   "metadata": {},
   "outputs": [],
   "source": [
    "def moveZeroes(nums):\n",
    "    zero = 0\n",
    "    for i in range(len(nums)):\n",
    "        if nums[i] != 0:\n",
    "            nums[i], nums[zero] = nums[zero], nums[i]\n",
    "            zero += 1\n",
    "    return nums"
   ]
  },
  {
   "cell_type": "raw",
   "id": "d75cac84-b5d5-4d85-a087-37b6a603a04d",
   "metadata": {},
   "source": [
    "This function uses two pointers, i and zero, to iterate over the input array nums. The pointer i is used to scan the entire array, while the pointer zero keeps track of the position of the first zero element. For each nonzero element nums[i], the function swaps it with the element at position zero and increments zero. This way, all nonzero elements are moved to the front of the array, while all zero elements are left at the end."
   ]
  },
  {
   "cell_type": "code",
   "execution_count": 43,
   "id": "50ae642e-a668-418d-8179-a46c72601b68",
   "metadata": {},
   "outputs": [
    {
     "data": {
      "text/plain": [
       "[1, 3, 12, 0, 0]"
      ]
     },
     "execution_count": 43,
     "metadata": {},
     "output_type": "execute_result"
    }
   ],
   "source": [
    "nums = [0, 1, 0, 3, 12]\n",
    "\n",
    "moveZeroes(nums)"
   ]
  },
  {
   "cell_type": "code",
   "execution_count": 45,
   "id": "95469da9-4c0a-4fc4-b20b-7ac9e7a21e89",
   "metadata": {},
   "outputs": [
    {
     "data": {
      "text/plain": [
       "[0, 0, 0]"
      ]
     },
     "execution_count": 45,
     "metadata": {},
     "output_type": "execute_result"
    }
   ],
   "source": [
    "nums = [0, 0, 0]\n",
    "\n",
    "moveZeroes(nums)"
   ]
  },
  {
   "cell_type": "code",
   "execution_count": null,
   "id": "ef18b8bd-1211-4df4-b3f2-7cf1b8144b40",
   "metadata": {},
   "outputs": [],
   "source": []
  },
  {
   "cell_type": "markdown",
   "id": "f82ed178-5454-4951-943e-9056e7d62b2c",
   "metadata": {},
   "source": [
    "**Q8.** You have a set of integers s, which originally contains all the numbers from 1 to n. Unfortunately, due to some error, one of the numbers in s got duplicated to another number in the set, which results in repetition of one number and loss of another number.\n",
    "\n",
    "You are given an integer array nums representing the data status of this set after the error.\n",
    "\n",
    "Find the number that occurs twice and the number that is missing and return them in the form of an array.\n",
    "\n",
    "**Example 1:**\n",
    "Input: nums = [1,2,2,4]\n",
    "Output: [2,3]"
   ]
  },
  {
   "cell_type": "code",
   "execution_count": 52,
   "id": "7099ed3a-8bbb-4b61-8f44-013d7c46d8e4",
   "metadata": {},
   "outputs": [],
   "source": [
    "def findErrorNums(nums):\n",
    "    n = len(nums)\n",
    "    duplicate_num = sum(nums) - sum(set(nums))\n",
    "    missing_num = sum(range(1, n + 1)) - sum(set(nums))\n",
    "    return [duplicate_num, missing_num]"
   ]
  },
  {
   "cell_type": "raw",
   "id": "2696cb21-4753-4c59-a8d8-3e1c842e757f",
   "metadata": {},
   "source": [
    "This function first calculates the expected sum of the numbers from 1 to n using the formula n * (n + 1) // 2, where n is the length of the input array nums. Then it calculates the actual sum of the numbers in nums and finds the difference between the expected sum and the actual sum. This difference is equal to the missing number minus the duplicate number.\n",
    "\n",
    "Next, the function creates a set from the input array nums to remove duplicates and finds the difference between the sum of this set and the sum of the numbers from 1 to n. This difference is equal to the missing number. Finally, the function calculates the duplicate number by subtracting the previously calculated difference between the expected sum and the actual sum from the missing number."
   ]
  },
  {
   "cell_type": "code",
   "execution_count": 53,
   "id": "55886db1-66eb-475d-a461-6113b5fbf1db",
   "metadata": {},
   "outputs": [
    {
     "data": {
      "text/plain": [
       "[2, 3]"
      ]
     },
     "execution_count": 53,
     "metadata": {},
     "output_type": "execute_result"
    }
   ],
   "source": [
    "nums = [1, 2, 2, 4]\n",
    "\n",
    "findErrorNums(nums)"
   ]
  },
  {
   "cell_type": "code",
   "execution_count": 56,
   "id": "4be2d63d-d088-4b62-814f-843c3f279869",
   "metadata": {},
   "outputs": [
    {
     "data": {
      "text/plain": [
       "[3, 4]"
      ]
     },
     "execution_count": 56,
     "metadata": {},
     "output_type": "execute_result"
    }
   ],
   "source": [
    "nums = [1, 2, 3, 3, 5]\n",
    "\n",
    "findErrorNums(nums)"
   ]
  },
  {
   "cell_type": "code",
   "execution_count": null,
   "id": "da65ddab-8a42-4d90-92b2-99ef92869d13",
   "metadata": {},
   "outputs": [],
   "source": []
  }
 ],
 "metadata": {
  "kernelspec": {
   "display_name": "Python 3 (ipykernel)",
   "language": "python",
   "name": "python3"
  },
  "language_info": {
   "codemirror_mode": {
    "name": "ipython",
    "version": 3
   },
   "file_extension": ".py",
   "mimetype": "text/x-python",
   "name": "python",
   "nbconvert_exporter": "python",
   "pygments_lexer": "ipython3",
   "version": "3.10.8"
  }
 },
 "nbformat": 4,
 "nbformat_minor": 5
}
