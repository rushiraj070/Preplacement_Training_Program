{
 "cells": [
  {
   "cell_type": "markdown",
   "id": "ee99b387-6d2c-4596-90dd-b74718aebe74",
   "metadata": {},
   "source": [
    "\n",
    "\n"
   ]
  },
  {
   "cell_type": "markdown",
   "id": "ea80a5e0-41f3-4316-94ee-0a0d6daffaec",
   "metadata": {},
   "source": [
    "1. Write a Python program to reverse a string without using any built-in string reversal functions.\n",
    "\n",
    "Ans - To reverse a string without using any built-in string reversal functions, you can use slicing with a step of -1:"
   ]
  },
  {
   "cell_type": "code",
   "execution_count": 1,
   "id": "f5b44d19-0040-42d6-9521-5e32698afaa1",
   "metadata": {},
   "outputs": [],
   "source": [
    "def reverse_string(s):\n",
    "    return s[::-1]"
   ]
  },
  {
   "cell_type": "markdown",
   "id": "df9ab8c9-4064-4585-9205-1d58e06d56be",
   "metadata": {},
   "source": [
    "2. Implement a function to check if a given string is a palindrome.\n",
    "\n",
    "Ans - To check if a given string is a palindrome, you can compare the original string with its reversed version:"
   ]
  },
  {
   "cell_type": "code",
   "execution_count": 2,
   "id": "f21ead5c-a26b-4213-85a6-a0c4a8557626",
   "metadata": {},
   "outputs": [],
   "source": [
    "def is_palindrome(s):\n",
    "    return s == s[::-1]"
   ]
  },
  {
   "cell_type": "markdown",
   "id": "2cfdf28d-4f00-4214-aa43-521de5637e3d",
   "metadata": {},
   "source": [
    "3. Write a program to find the largest element in a given list.\n",
    "\n",
    "Ans - To find the largest element in a given list, you can use the `max` function:"
   ]
  },
  {
   "cell_type": "code",
   "execution_count": 3,
   "id": "13054895-1175-4db9-8bc4-0ceda5993bd8",
   "metadata": {},
   "outputs": [],
   "source": [
    "def find_largest(lst):\n",
    "    return max(lst)"
   ]
  },
  {
   "cell_type": "markdown",
   "id": "79472a0a-e4d6-46e2-8c39-496e13a9301c",
   "metadata": {},
   "source": [
    "4. Implement a function to count the occurrence of each element in a list.\n",
    "\n",
    "Ans - To count the occurrence of each element in a list, you can use a dictionary to keep track of the counts:\n"
   ]
  },
  {
   "cell_type": "code",
   "execution_count": 4,
   "id": "50dc41c8-dc04-44cd-9ea5-a08e1d762822",
   "metadata": {},
   "outputs": [],
   "source": [
    "def count_elements(lst):\n",
    "    counts = {}\n",
    "    for element in lst:\n",
    "        if element in counts:\n",
    "            counts[element] += 1\n",
    "        else:\n",
    "            counts[element] = 1\n",
    "    return counts"
   ]
  },
  {
   "cell_type": "markdown",
   "id": "7fe20c6f-03e2-46d0-9dfd-09e726cc4843",
   "metadata": {},
   "source": [
    "5. Write a Python program to find the second largest number in a list.\n",
    "\n",
    "Ans - To find the second largest number in a list, you can sort the list in descending order and return the second element:"
   ]
  },
  {
   "cell_type": "code",
   "execution_count": 6,
   "id": "52df8274-ca67-470e-abcf-d84b845e1091",
   "metadata": {},
   "outputs": [],
   "source": [
    "def find_second_largest(lst):\n",
    "    sorted_lst = sorted(lst, reverse=True)\n",
    "    return sorted_lst[1]"
   ]
  },
  {
   "cell_type": "markdown",
   "id": "d2ba6f54-2a08-4924-bb77-7a990f309280",
   "metadata": {},
   "source": [
    "6. Implement a function to remove duplicate elements from a list.\n",
    "\n",
    "Ans - To remove duplicate elements from a list, you can use a set to keep track of the unique elements and then convert it back to a list:"
   ]
  },
  {
   "cell_type": "code",
   "execution_count": 7,
   "id": "2c907af7-8c2d-42fe-b156-9c8d51e87471",
   "metadata": {},
   "outputs": [],
   "source": [
    "def remove_duplicates(lst):\n",
    "    unique_elements = set(lst)\n",
    "    return list(unique_elements)"
   ]
  },
  {
   "cell_type": "markdown",
   "id": "4704d61a-e076-4c46-bd56-6e5d37bd803d",
   "metadata": {},
   "source": [
    "7. Write a program to calculate the factorial of a given number.\n",
    "\n",
    "Ans - To calculate the factorial of a given number, you can use a loop to multiply all the numbers from 1 to the given number:"
   ]
  },
  {
   "cell_type": "code",
   "execution_count": 10,
   "id": "84e8649b-3c19-4f27-864c-51dcf9abc4b6",
   "metadata": {},
   "outputs": [],
   "source": [
    "def factorial(n):\n",
    "    result = 1\n",
    "    for i in range(1, n+1):\n",
    "        result *= i\n",
    "    return result"
   ]
  },
  {
   "cell_type": "markdown",
   "id": "bd227feb-f3fb-4e3b-b6c4-044808d6dbfb",
   "metadata": {},
   "source": [
    "8. Implement a function to check if a given number is prime.\n",
    "\n",
    "Ans - To check if a given number is prime, you can use a loop to check if it is divisible by any number from 2 to the square root of the given number:"
   ]
  },
  {
   "cell_type": "code",
   "execution_count": 8,
   "id": "5e850b9b-b79e-4032-869e-a38794056916",
   "metadata": {},
   "outputs": [],
   "source": [
    "def is_prime(n):\n",
    "    if n <= 1:\n",
    "        return False\n",
    "    for i in range(2, int(n**0.5)+1):\n",
    "        if n % i == 0:\n",
    "            return False\n",
    "    return True"
   ]
  },
  {
   "cell_type": "markdown",
   "id": "8841c4e2-121d-434d-bf25-33bcb6561fe2",
   "metadata": {},
   "source": [
    "9. Write a Python program to sort a list of integers in ascending order.\n",
    "\n",
    "Ans - To sort a list of integers in ascending order, you can use the `sort` method:"
   ]
  },
  {
   "cell_type": "code",
   "execution_count": 9,
   "id": "a5ea2488-5a78-437d-8896-7c00934c1d36",
   "metadata": {},
   "outputs": [],
   "source": [
    "def sort_list(lst):\n",
    "    lst.sort()\n",
    "    return lst"
   ]
  },
  {
   "cell_type": "markdown",
   "id": "34de35f8-1244-4312-9981-5f95a6e4d021",
   "metadata": {},
   "source": [
    "10. Implement a function to find the sum of all numbers in a list.\n",
    "\n",
    "Ans - To find the sum of all numbers in a list, you can use the `sum` function:"
   ]
  },
  {
   "cell_type": "code",
   "execution_count": 11,
   "id": "cbd5cc07-fc8d-463a-b06b-96f0af5aa245",
   "metadata": {},
   "outputs": [],
   "source": [
    "def sum_list(lst):\n",
    "    return sum(lst)"
   ]
  },
  {
   "cell_type": "markdown",
   "id": "643b425a-0330-45da-aa01-9bb46030946b",
   "metadata": {},
   "source": [
    "11. Write a program to find the common elements between two lists.\n",
    "\n",
    "Ans - To find the common elements between two lists, you can use a set intersection:"
   ]
  },
  {
   "cell_type": "code",
   "execution_count": 12,
   "id": "8c912c19-0f2d-4018-9c3f-3cb6229c11ae",
   "metadata": {},
   "outputs": [],
   "source": [
    "def common_elements(lst1, lst2):\n",
    "    set1 = set(lst1)\n",
    "    set2 = set(lst2)\n",
    "    return list(set1 & set2)"
   ]
  },
  {
   "cell_type": "markdown",
   "id": "bfc9ed82-51a9-4eb0-979b-0629487bf01d",
   "metadata": {},
   "source": [
    "12. Implement a function to check if a given string is an anagram of another string.\n",
    "\n",
    "Ans - To check if a given string is an anagram of another string, you can compare the sorted versions of both strings:"
   ]
  },
  {
   "cell_type": "code",
   "execution_count": 13,
   "id": "c99f2ddb-bd62-407d-943a-b0988cbf8904",
   "metadata": {},
   "outputs": [],
   "source": [
    "def is_anagram(s1, s2):\n",
    "    return sorted(s1) == sorted(s2)"
   ]
  },
  {
   "cell_type": "markdown",
   "id": "24e940bd-7b68-4d6e-a0e2-ad539bbb782a",
   "metadata": {},
   "source": [
    "13. Write a Python program to generate all permutations of a given string.\n",
    "\n",
    "Ans - To generate all permutations of a given string, you can use the `permutations` function from the `itertools` module:"
   ]
  },
  {
   "cell_type": "code",
   "execution_count": 14,
   "id": "67ad4152-7d91-475d-acb9-ad076d2372bb",
   "metadata": {},
   "outputs": [],
   "source": [
    "from itertools import permutations\n",
    "\n",
    "def generate_permutations(s):\n",
    "    return [''.join(p) for p in permutations(s)]"
   ]
  },
  {
   "cell_type": "markdown",
   "id": "8f7b9fdc-988c-4f19-8e06-ad670e9eb577",
   "metadata": {},
   "source": [
    "14. Implement a function to calculate the Fibonacci sequence up to a given number of terms.\n",
    "\n",
    "Ans - To calculate the Fibonacci sequence up to a given number of terms, you can use a loop to generate the sequence:"
   ]
  },
  {
   "cell_type": "code",
   "execution_count": 15,
   "id": "197f96e7-9879-40d3-844c-824c0debd845",
   "metadata": {},
   "outputs": [],
   "source": [
    "def fibonacci(n):\n",
    "    sequence = [0, 1]\n",
    "    for i in range(2, n):\n",
    "        next_number = sequence[-1] + sequence[-2]\n",
    "        sequence.append(next_number)\n",
    "    return sequence"
   ]
  },
  {
   "cell_type": "markdown",
   "id": "91119d2d-c118-463b-a2e6-14e8b2e6b05c",
   "metadata": {},
   "source": [
    "15. Write a program to find the median of a list of numbers.\n",
    "\n",
    "Ans - To find the median of a list of numbers, you can sort the list and then find the middle element(s):"
   ]
  },
  {
   "cell_type": "code",
   "execution_count": 16,
   "id": "99f51065-ab98-456b-be5d-e69aca7a0d98",
   "metadata": {},
   "outputs": [],
   "source": [
    "def find_median(lst):\n",
    "    sorted_lst = sorted(lst)\n",
    "    n = len(lst)\n",
    "    if n % 2 == 1:\n",
    "        return sorted_lst[n//2]\n",
    "    else:\n",
    "        return (sorted_lst[n//2-1] + sorted_lst[n//2]) / 2"
   ]
  },
  {
   "cell_type": "markdown",
   "id": "7a1f1b82-b895-4fd1-b719-9b559bdb8dca",
   "metadata": {},
   "source": [
    "16. Implement a function to check if a given list is sorted in non-decreasing order.\n",
    "\n",
    "Ans - To check if a given list is sorted in non-decreasing order, you can compare each element with its successor:"
   ]
  },
  {
   "cell_type": "code",
   "execution_count": 17,
   "id": "76a53698-9257-4e59-ac28-9863afcfb0be",
   "metadata": {},
   "outputs": [],
   "source": [
    "def is_sorted(lst):\n",
    "    for i in range(len(lst)-1):\n",
    "        if lst[i] > lst[i+1]:\n",
    "            return False\n",
    "    return True"
   ]
  },
  {
   "cell_type": "markdown",
   "id": "72b77576-ce46-446a-ab22-d542b6a63764",
   "metadata": {},
   "source": [
    "17. Write a Python program to find the intersection of two lists.\n",
    "\n",
    "Ans - To find the intersection of two lists, you can use a set intersection:"
   ]
  },
  {
   "cell_type": "code",
   "execution_count": 18,
   "id": "fb747b89-9387-4d6d-9674-9f9c4cb15778",
   "metadata": {},
   "outputs": [],
   "source": [
    "def find_intersection(lst1, lst2):\n",
    "    set1 = set(lst1)\n",
    "    set2 = set(lst2)\n",
    "    return list(set1 & set2)"
   ]
  },
  {
   "cell_type": "markdown",
   "id": "e42caf57-0985-44d1-9c7a-aae635ea194c",
   "metadata": {},
   "source": [
    "18. Implement a function to find the maximum subarray sum in a given list.\n",
    "\n",
    "Ans - To find the maximum subarray sum in a given list, you can use the Kadane's algorithm:"
   ]
  },
  {
   "cell_type": "code",
   "execution_count": 19,
   "id": "d382b0c2-f4c2-4e49-8785-b9c55cc84c34",
   "metadata": {},
   "outputs": [],
   "source": [
    "def max_subarray_sum(lst):\n",
    "    max_sum = float('-inf')\n",
    "    current_sum = 0\n",
    "    for element in lst:\n",
    "        current_sum = max(current_sum + element, element)\n",
    "        max_sum = max(max_sum, current_sum)\n",
    "    return max_sum"
   ]
  },
  {
   "cell_type": "markdown",
   "id": "f0d712a8-71c9-4a94-9dac-9dba843f2696",
   "metadata": {},
   "source": [
    "19. Write a program to remove all vowels from a given string.\n",
    "\n",
    "Ans - To remove all vowels from a given string, you can use a loop to check if each character is a vowel and then build a new string without the vowels:"
   ]
  },
  {
   "cell_type": "code",
   "execution_count": 20,
   "id": "50f79337-9dd2-46c7-965b-60d528a6951e",
   "metadata": {},
   "outputs": [],
   "source": [
    "def remove_vowels(s):\n",
    "    vowels = 'aeiouAEIOU'\n",
    "    result = ''\n",
    "    for char in s:\n",
    "        if char not in vowels:\n",
    "            result += char\n",
    "    return result"
   ]
  },
  {
   "cell_type": "markdown",
   "id": "8223e870-24c3-431a-a7c6-ae319f1bbc14",
   "metadata": {},
   "source": [
    "20. Implement a function to reverse the order of words in a given sentence.\n",
    "\n",
    "Ans - To reverse the order of words in a given sentence, you can split the sentence into words, reverse the list of words, and then join them back into a sentence:"
   ]
  },
  {
   "cell_type": "code",
   "execution_count": 21,
   "id": "60cae16b-37ac-4a63-b44b-deebb8d3de64",
   "metadata": {},
   "outputs": [],
   "source": [
    "def reverse_words(s):\n",
    "    words = s.split()\n",
    "    words.reverse()\n",
    "    return ' '.join(words)"
   ]
  },
  {
   "cell_type": "markdown",
   "id": "d6f8c7a6-6f5e-4f01-80a9-b400a6bc19f9",
   "metadata": {},
   "source": [
    "21. Write a Python program to check if two strings are anagrams of each other.\n",
    "\n",
    "Ans - To check if two strings are anagrams of each other, you can compare the sorted versions of both strings:\n"
   ]
  },
  {
   "cell_type": "code",
   "execution_count": 22,
   "id": "4725d0c0-f73c-432b-a040-bceeab890c99",
   "metadata": {},
   "outputs": [],
   "source": [
    "def are_anagrams(s1, s2):\n",
    "    return sorted(s1) == sorted(s2)"
   ]
  },
  {
   "cell_type": "markdown",
   "id": "254a33ab-aab0-4383-bcb4-9375d6df9b54",
   "metadata": {},
   "source": [
    "22. Implement a function to find the first non-repeating character in a string.\n",
    "\n",
    "Ans - To find the first non-repeating character in a string, you can use a dictionary to keep track of the counts of each character and then loop through the string to find the first character with a count of 1:"
   ]
  },
  {
   "cell_type": "code",
   "execution_count": 23,
   "id": "a1b96285-5781-4ed9-8610-c2f580da5515",
   "metadata": {},
   "outputs": [],
   "source": [
    "def first_non_repeating_char(s):\n",
    "    counts = {}\n",
    "    for char in s:\n",
    "        if char in counts:\n",
    "            counts[char] += 1\n",
    "        else:\n",
    "            counts[char] = 1\n",
    "    for char in s:\n",
    "        if counts[char] == 1:\n",
    "            return char\n",
    "    return None"
   ]
  },
  {
   "cell_type": "markdown",
   "id": "2487e73b-a475-4d2b-a4fa-aa0e63150b2e",
   "metadata": {},
   "source": [
    "23. Write a program to find the prime factors of a given number.\n",
    "\n",
    "Ans - To find the prime factors of a given number, you can use a loop to check if it is divisible by any number from 2 to the square root of the given number and divide it by that number until it is no longer divisible:"
   ]
  },
  {
   "cell_type": "code",
   "execution_count": 24,
   "id": "6e2dfd09-51af-45d5-955a-0b4d42a6372a",
   "metadata": {},
   "outputs": [],
   "source": [
    "def prime_factors(n):\n",
    "    factors = []\n",
    "    i = 2\n",
    "    while i * i <= n:\n",
    "        if n % i == 0:\n",
    "            factors.append(i)\n",
    "            n //= i\n",
    "        else:\n",
    "            i += 1\n",
    "    if n > 1:\n",
    "        factors.append(n)\n",
    "    return factors"
   ]
  },
  {
   "cell_type": "markdown",
   "id": "f806073b-b143-4dcb-8a32-9d4aece66680",
   "metadata": {},
   "source": [
    "24. Implement a function to check if a given number is a power of two.\n",
    "\n",
    "Ans - To check if a given number is a power of two, you can use bitwise operations to check if it has only one bit set to 1:"
   ]
  },
  {
   "cell_type": "code",
   "execution_count": 25,
   "id": "27adb4e8-c360-4e74-b62a-9691b8da4b3f",
   "metadata": {},
   "outputs": [],
   "source": [
    "def is_power_of_two(n):\n",
    "    return n > 0 and (n & (n-1)) == 0"
   ]
  },
  {
   "cell_type": "markdown",
   "id": "54c826aa-760f-4e53-9ad9-c315163a4fda",
   "metadata": {},
   "source": [
    "25. Write a Python program to merge two sorted lists into a single sorted list.\n",
    "\n",
    "Ans - To merge two sorted lists into a single sorted list, you can use a loop to compare the first elements of both lists and append the smaller one to the result list:"
   ]
  },
  {
   "cell_type": "code",
   "execution_count": 26,
   "id": "7551d746-38e2-452c-8fa3-9b43419984f6",
   "metadata": {},
   "outputs": [],
   "source": [
    "def merge_sorted_lists(lst1, lst2):\n",
    "    result = []\n",
    "    i = j = 0\n",
    "    while i < len(lst1) and j < len(lst2):\n",
    "        if lst1[i] < lst2[j]:\n",
    "            result.append(lst1[i])\n",
    "            i += 1\n",
    "        else:\n",
    "            result.append(lst2[j])\n",
    "            j += 1\n",
    "    result.extend(lst1[i:])\n",
    "    result.extend(lst2[j:])\n",
    "    return result"
   ]
  },
  {
   "cell_type": "markdown",
   "id": "4ffc271c-d4c5-4149-ac07-3830ca4d1daf",
   "metadata": {},
   "source": [
    "26. Implement a function to find the mode of a list of numbers.\n",
    "\n",
    "Ans - To find the mode of a list of numbers, you can use a dictionary to keep track of the counts of each number and then find the number(s) with the highest count:"
   ]
  },
  {
   "cell_type": "code",
   "execution_count": 27,
   "id": "5bd48be0-dfc2-4dc4-b91c-f089fb630d9b",
   "metadata": {},
   "outputs": [],
   "source": [
    "def find_mode(lst):\n",
    "    counts = {}\n",
    "    for element in lst:\n",
    "        if element in counts:\n",
    "            counts[element] += 1\n",
    "        else:\n",
    "            counts[element] = 1\n",
    "    max_count = max(counts.values())\n",
    "    return [element for element, count in counts.items() if count == max_count]"
   ]
  },
  {
   "cell_type": "markdown",
   "id": "ee464899-c70d-47bf-a7b8-4b3306b6a01f",
   "metadata": {},
   "source": [
    "27. Write a program to find the greatest common divisor (GCD) of two numbers.\n",
    "\n",
    "Ans - To find the greatest common divisor (GCD) of two numbers, you can use the Euclidean algorithm:"
   ]
  },
  {
   "cell_type": "code",
   "execution_count": 28,
   "id": "9ec9a4ab-b776-4acc-a3f2-10a38cbbdb62",
   "metadata": {},
   "outputs": [],
   "source": [
    "def gcd(a, b):\n",
    "    while b:\n",
    "        a, b = b, a % b\n",
    "    return a"
   ]
  },
  {
   "cell_type": "markdown",
   "id": "58171714-0aaf-49dd-b087-fa6c13d6d2a6",
   "metadata": {},
   "source": [
    "28. Implement a function to calculate the square root of a given number.\n",
    "\n",
    "Ans - To calculate the square root of a given number, you can use the `math.sqrt` function from the `math` module:"
   ]
  },
  {
   "cell_type": "code",
   "execution_count": 29,
   "id": "fdde6e40-da7b-4eff-99d9-466a0b8ec2a2",
   "metadata": {},
   "outputs": [],
   "source": [
    "import math\n",
    "\n",
    "def square_root(n):\n",
    "    return math.sqrt(n)"
   ]
  },
  {
   "cell_type": "markdown",
   "id": "cb8bd35f-5beb-40d6-84d9-35b33d4a4cd5",
   "metadata": {},
   "source": [
    "29. Write a Python program to check if a given string is a valid palindrome ignoring non-alphanumeric characters.\n",
    "Ans - To check if a given string is a valid palindrome ignoring non-alphanumeric characters, you can use two pointers to compare characters from both ends while skipping non-alphanumeric characters:"
   ]
  },
  {
   "cell_type": "code",
   "execution_count": 30,
   "id": "f8ca809b-532f-446a-bfcb-6fb7c0b3c11b",
   "metadata": {},
   "outputs": [],
   "source": [
    "def is_valid_palindrome(s):\n",
    "    left, right = 0, len(s)-1\n",
    "    while left < right:\n",
    "        while left < right and not s[left].isalnum():\n",
    "            left += 1\n",
    "        while left < right and not s[right].isalnum():\n",
    "            right -= 1\n",
    "        if s[left].lower() != s[right].lower():\n",
    "            return False\n",
    "        left += 1\n",
    "        right -= 1\n",
    "    return True"
   ]
  },
  {
   "cell_type": "markdown",
   "id": "8e1db91c-6cc7-491c-a522-61443c01a716",
   "metadata": {},
   "source": [
    "30. Implement a function to find the minimum element in a rotated sorted list.\n",
    "Ans - To find the minimum element in a rotated sorted list, you can use binary search to find the pivot point where the rotation occurred and then return the element after the pivot point:"
   ]
  },
  {
   "cell_type": "code",
   "execution_count": 31,
   "id": "e5df4b0e-0de6-4144-95f8-6daff3fd7628",
   "metadata": {},
   "outputs": [],
   "source": [
    "def find_min_rotated_sorted_list(lst):\n",
    "    left, right = 0, len(lst)-1\n",
    "    while left < right:\n",
    "        mid = (left + right) // 2\n",
    "        if lst[mid] > lst[right]:\n",
    "            left = mid + 1\n",
    "        else:\n",
    "            right = mid\n",
    "    return lst[left]"
   ]
  },
  {
   "cell_type": "markdown",
   "id": "b03ea83b-274a-45b1-bac0-8538c9eb2954",
   "metadata": {},
   "source": [
    "31. Write a program to find the sum of all even numbers in a list.\n",
    "\n",
    "Ans - To find the sum of all even numbers in a list, you can use a loop to check if each element is even and then add it to the sum:"
   ]
  },
  {
   "cell_type": "code",
   "execution_count": 32,
   "id": "327860d3-420c-4735-9211-77d7cff5dda0",
   "metadata": {},
   "outputs": [],
   "source": [
    "def sum_even_numbers(lst):\n",
    "    result = 0\n",
    "    for element in lst:\n",
    "        if element % 2 == 0:\n",
    "            result += element\n",
    "    return result"
   ]
  },
  {
   "cell_type": "markdown",
   "id": "7515cd92-d57b-4940-96ec-c669568bf107",
   "metadata": {},
   "source": [
    "32. Implement a function to calculate the power of a number using recursion.\n",
    "\n",
    "Ans - To calculate the power of a number using recursion, you can use the following recursive formula: `x^n = x * x^(n-1)`:"
   ]
  },
  {
   "cell_type": "code",
   "execution_count": 33,
   "id": "2a635b93-6913-42df-984a-97d39d6b93d0",
   "metadata": {},
   "outputs": [],
   "source": [
    "def power(x, n):\n",
    "    if n == 0:\n",
    "        return 1\n",
    "    return x * power(x, n-1)"
   ]
  },
  {
   "cell_type": "markdown",
   "id": "9672bf4e-1018-40e8-83f4-99eaac2e0fc5",
   "metadata": {},
   "source": [
    "33. Write a Python program to remove duplicates from a list while preserving the order.\n",
    "\n",
    "Ans - To remove duplicates from a list while preserving the order, you can use a set to keep track of the unique elements and then build a new list with only the unique elements:"
   ]
  },
  {
   "cell_type": "code",
   "execution_count": 34,
   "id": "38b08725-f510-48ac-89cf-e35fa4fa118e",
   "metadata": {},
   "outputs": [],
   "source": [
    "def remove_duplicates_preserve_order(lst):\n",
    "    unique_elements = set()\n",
    "    result = []\n",
    "    for element in lst:\n",
    "        if element not in unique_elements:\n",
    "            result.append(element)\n",
    "            unique_elements.add(element)\n",
    "    return result"
   ]
  },
  {
   "cell_type": "markdown",
   "id": "95586391-a520-4f1d-a44d-affef3f350e8",
   "metadata": {},
   "source": [
    "34. Implement a function to find the longest common prefix among a list of strings.\n",
    "\n",
    "Ans - To find the longest common prefix among a list of strings, you can use a loop to compare characters at the same position in all strings and then build the prefix character by character:"
   ]
  },
  {
   "cell_type": "code",
   "execution_count": 35,
   "id": "779a3b77-d8bd-4809-b43b-d712ed6d8fa7",
   "metadata": {},
   "outputs": [],
   "source": [
    "def longest_common_prefix(lst):\n",
    "    if not lst:\n",
    "        return ''\n",
    "    prefix = ''\n",
    "    for i in range(len(lst[0])):\n",
    "        char = lst[0][i]\n",
    "        for string in lst[1:]:\n",
    "            if i >= len(string) or string[i] != char:\n",
    "                return prefix\n",
    "        prefix += char\n",
    "    return prefix"
   ]
  },
  {
   "cell_type": "markdown",
   "id": "bfbd0d10-d9c2-4605-99c2-5f9c3256858b",
   "metadata": {},
   "source": [
    "35. Write a program to check if a given number is a perfect square.\n",
    "\n",
    "Ans - To check if a given number is a perfect square, you can calculate its square root and then check if it is an integer:"
   ]
  },
  {
   "cell_type": "code",
   "execution_count": 37,
   "id": "a46f6e0b-7038-4b97-8ea9-aa90325846c3",
   "metadata": {},
   "outputs": [],
   "source": [
    "def is_perfect_square(n):\n",
    "    root = int(n**0.5)\n",
    "    return root * root == n"
   ]
  },
  {
   "cell_type": "markdown",
   "id": "d5b631bf-8fbf-405a-a94b-8508bcd85bd8",
   "metadata": {},
   "source": [
    "36. Implement a function to calculate the product of all elements in a list.\n",
    "\n",
    "Ans - To calculate the product of all elements in a list, you can use a loop to multiply all the elements together:"
   ]
  },
  {
   "cell_type": "code",
   "execution_count": 36,
   "id": "25f994bc-3de3-4bd7-b8c1-0b58c1f9e7ca",
   "metadata": {},
   "outputs": [],
   "source": [
    "def product_list(lst):\n",
    "    result = 1\n",
    "    for element in lst:\n",
    "        result *= element\n",
    "    return result"
   ]
  },
  {
   "cell_type": "markdown",
   "id": "ae2cf497-4c32-4c48-906a-3323aca2faad",
   "metadata": {},
   "source": [
    "37. Write a Python program to reverse the order of words in a sentence while preserving the word order.\n",
    "\n",
    "Ans - To reverse the order of words in a sentence while preserving the word order, you can split the sentence into words, reverse each word, and then join them back into a sentence:\n"
   ]
  },
  {
   "cell_type": "code",
   "execution_count": 38,
   "id": "9a524715-1bc1-4ae6-b567-3f195a1f1268",
   "metadata": {},
   "outputs": [],
   "source": [
    "def reverse_words_preserve_order(s):\n",
    "    words = s.split()\n",
    "    reversed_words = [word[::-1] for word in words]\n",
    "    return ' '.join(reversed_words)"
   ]
  },
  {
   "cell_type": "markdown",
   "id": "8dde33b4-74db-464c-aa64-56795c1579b1",
   "metadata": {},
   "source": [
    "38. Implement a function to find the missing number in a given list of consecutive numbers.\n",
    "\n",
    "Ans - To find the missing number in a given list of consecutive numbers, you can calculate the expected sum of all numbers and then subtract the actual sum of the list from it:\n"
   ]
  },
  {
   "cell_type": "code",
   "execution_count": 39,
   "id": "b238fd9e-eefa-41e1-becc-e91eb35860e8",
   "metadata": {},
   "outputs": [],
   "source": [
    "def find_missing_number(lst):\n",
    "    n = len(lst) + 1\n",
    "    expected_sum = n * (n+1) // 2\n",
    "    actual_sum = sum(lst)\n",
    "    return expected_sum - actual_sum"
   ]
  },
  {
   "cell_type": "markdown",
   "id": "311c62e2-aab0-4ff3-bc34-b22667d467a4",
   "metadata": {},
   "source": [
    "39. Write a program to find the sum of digits of a given number.\n",
    "\n",
    "Ans - To find the sum of digits of a given number, you can use a loop to extract each digit and then add it to the sum:\n"
   ]
  },
  {
   "cell_type": "code",
   "execution_count": 40,
   "id": "0c0d5ce3-ca9b-413d-b5e1-a6b9dd24e398",
   "metadata": {},
   "outputs": [],
   "source": [
    "def sum_digits(n):\n",
    "    result = 0\n",
    "    while n:\n",
    "        result += n % 10\n",
    "        n //= 10\n",
    "    return result"
   ]
  },
  {
   "cell_type": "markdown",
   "id": "238a3387-9ac6-431d-9403-9f7163056c70",
   "metadata": {},
   "source": [
    "40. Implement a function to check if a given string is a valid palindrome considering case sensitivity.\n",
    "\n",
    "Ans - To check if a given string is a valid palindrome considering case sensitivity, you can use two pointers to compare characters from both ends:\n"
   ]
  },
  {
   "cell_type": "code",
   "execution_count": 41,
   "id": "1c56bf16-10ef-4859-a585-4bbd947670f3",
   "metadata": {},
   "outputs": [],
   "source": [
    "def is_valid_palindrome_case_sensitive(s):\n",
    "    left, right = 0, len(s)-1\n",
    "    while left < right:\n",
    "        if s[left] != s[right]:\n",
    "            return False\n",
    "        left += 1\n",
    "        right -= 1\n",
    "    return True"
   ]
  },
  {
   "cell_type": "markdown",
   "id": "adbf0a6b-b3a6-458a-9ffa-3bba37b29442",
   "metadata": {},
   "source": [
    "41. Write a Python program to find the smallest missing positive integer in a list.\n",
    "\n",
    "Ans - To find the smallest missing positive integer in a list, you can use a loop to move each positive integer to its correct position and then use another loop to find the first missing positive integer:\n"
   ]
  },
  {
   "cell_type": "code",
   "execution_count": 42,
   "id": "61cdd6c0-4694-4804-9430-56066c36ccc6",
   "metadata": {},
   "outputs": [],
   "source": [
    "def find_smallest_missing_positive(lst):\n",
    "    n = len(lst)\n",
    "    for i in range(n):\n",
    "        while 1 <= lst[i] <= n and lst[lst[i]-1] != lst[i]:\n",
    "            lst[lst[i]-1], lst[i] = lst[i], lst[lst[i]-1]\n",
    "    for i in range(n):\n",
    "        if lst[i] != i+1:\n",
    "            return i+1\n",
    "    return n+1"
   ]
  },
  {
   "cell_type": "markdown",
   "id": "0d80a46c-caab-410b-abe7-2ebc74643be1",
   "metadata": {},
   "source": [
    "42. Implement a function to find the longest palindrome substring in a given string.\n",
    "\n",
    "Ans - To find the longest palindrome substring in a given string, you can use dynamic programming to keep track of palindromic substrings and then expand them:\n"
   ]
  },
  {
   "cell_type": "code",
   "execution_count": 43,
   "id": "a003b457-09b9-46ed-8ca6-8aba958a125a",
   "metadata": {},
   "outputs": [],
   "source": [
    "def longest_palindrome_substring(s):\n",
    "    n = len(s)\n",
    "    dp = [[False] * n for _ in range(n)]\n",
    "    start, max_len = 0, 0\n",
    "    for i in range(n-1, -1, -1):\n",
    "        for j in range(i, n):\n",
    "            if s[i] == s[j] and (j-i < 2 or dp[i+1][j-1]):\n",
    "                dp[i][j] = True\n",
    "                if j-i+1 > max_len:\n",
    "                    start, max_len = i, j-i+1\n",
    "    return s[start:start+max_len]"
   ]
  },
  {
   "cell_type": "markdown",
   "id": "a9aed3cc-0026-43fa-92e2-491284ff598e",
   "metadata": {},
   "source": [
    "43. Write a program to find the number of occurrences of a given element in a list.\n",
    "\n",
    "Ans - To find the number of occurrences of a given element in a list, you can use the `count` method:\n"
   ]
  },
  {
   "cell_type": "code",
   "execution_count": 44,
   "id": "814e33a2-24f1-4242-9d38-d332b4120af8",
   "metadata": {},
   "outputs": [],
   "source": [
    "def count_element(lst, element):\n",
    "    return lst.count(element)"
   ]
  },
  {
   "cell_type": "markdown",
   "id": "a904bfdb-c45a-40f1-9989-d58e9323b57b",
   "metadata": {},
   "source": [
    "44. Implement a function to check if a given number is a perfect number.\n",
    "\n",
    "Ans - To check if a given number is a perfect number, you can use a loop to find its divisors and then check if their sum is equal to the given number:\n"
   ]
  },
  {
   "cell_type": "code",
   "execution_count": 45,
   "id": "37e1c675-53c6-4aea-bd9c-2ccfbac124ee",
   "metadata": {},
   "outputs": [],
   "source": [
    "def is_perfect_number(n):\n",
    "    divisors = [1]\n",
    "    for i in range(2, int(n**0.5)+1):\n",
    "        if n % i == 0:\n",
    "            divisors.append(i)\n",
    "            if i != n // i:\n",
    "                divisors.append(n // i)\n",
    "    return sum(divisors) == n"
   ]
  },
  {
   "cell_type": "markdown",
   "id": "1b204742-66fd-4cf8-b7b7-44b8fae27e24",
   "metadata": {},
   "source": [
    "45. Write a Python program to remove all duplicates from a string.\n",
    "\n",
    "Ans - To remove all duplicates from a string, you can use a set to keep track of the unique characters and then build a new string with only the unique characters:"
   ]
  },
  {
   "cell_type": "code",
   "execution_count": 46,
   "id": "f94bdc99-fd18-4c03-aa2d-22687ee03853",
   "metadata": {},
   "outputs": [],
   "source": [
    "def remove_duplicates_string(s):\n",
    "    unique_chars = set(s)\n",
    "    return ''.join(unique_chars)"
   ]
  },
  {
   "cell_type": "markdown",
   "id": "55bf5197-bacc-43b8-8b17-2c68b52db87b",
   "metadata": {},
   "source": [
    "46. Implement a function to find the first missing positive.\n",
    "\n",
    "Ans - To find the first missing positive integer in an unsorted list, you can use an index-based approach to rearrange elements and then scan through it to find the first missing positive integer:"
   ]
  },
  {
   "cell_type": "code",
   "execution_count": 47,
   "id": "a996f946-8853-49e8-a6e3-2b774a1227d5",
   "metadata": {},
   "outputs": [],
   "source": [
    "def first_missing_positive(nums):\n",
    "    size = len(nums)\n",
    "    \n",
    "    for i in range(size):\n",
    "        while nums[i] > 0 and nums[i] <= size and nums[nums[i]-1] != nums[i]:\n",
    "            nums[nums[i]-1], nums[i] = nums[i], nums[nums[i]-1]\n",
    "            \n",
    "    for i in range(size):\n",
    "        if nums[i] != i + 1:\n",
    "            return i + 1\n",
    "        \n",
    "    return size + 1 "
   ]
  },
  {
   "cell_type": "code",
   "execution_count": null,
   "id": "9c579ca5-c6bc-43d5-8398-38b3127e50ba",
   "metadata": {},
   "outputs": [],
   "source": []
  }
 ],
 "metadata": {
  "kernelspec": {
   "display_name": "Python 3 (ipykernel)",
   "language": "python",
   "name": "python3"
  },
  "language_info": {
   "codemirror_mode": {
    "name": "ipython",
    "version": 3
   },
   "file_extension": ".py",
   "mimetype": "text/x-python",
   "name": "python",
   "nbconvert_exporter": "python",
   "pygments_lexer": "ipython3",
   "version": "3.10.8"
  }
 },
 "nbformat": 4,
 "nbformat_minor": 5
}
