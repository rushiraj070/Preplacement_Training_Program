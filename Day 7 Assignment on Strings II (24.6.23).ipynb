{
 "cells": [
  {
   "cell_type": "markdown",
   "id": "373861bf-bfc4-4318-820a-503c44fa023b",
   "metadata": {
    "tags": []
   },
   "source": [
    "# Assignment Questions 7"
   ]
  },
  {
   "cell_type": "markdown",
   "id": "628181d2-b5db-4850-899b-6294727491f3",
   "metadata": {},
   "source": [
    "**Question 1**\n",
    "\n",
    "Given two strings s and t, *determine if they are isomorphic*.\n",
    "\n",
    "Two strings s and t are isomorphic if the characters in s can be replaced to get t.\n",
    "\n",
    "All occurrences of a character must be replaced with another character while preserving the order of characters. No two characters may map to the same character, but a character may map to itself.\n",
    "\n",
    "**Example 1:**\n",
    "\n",
    "**Input:** s = \"egg\", t = \"add\"\n",
    "\n",
    "**Output:** true"
   ]
  },
  {
   "cell_type": "code",
   "execution_count": 16,
   "id": "fae21992-3ad9-4957-8ec2-85e3ae11f3ec",
   "metadata": {},
   "outputs": [],
   "source": [
    "def is_isomorphic(s: str, t: str) -> bool:\n",
    "    if len(s) != len(t):\n",
    "        return False\n",
    "    s_to_t, t_to_s = {}, {}\n",
    "    for c1, c2 in zip(s, t):\n",
    "        if c1 in s_to_t and s_to_t[c1] != c2:\n",
    "            return False\n",
    "        if c2 in t_to_s and t_to_s[c2] != c1:\n",
    "            return False\n",
    "        s_to_t[c1] = c2\n",
    "        t_to_s[c2] = c1\n",
    "    return True"
   ]
  },
  {
   "cell_type": "code",
   "execution_count": 17,
   "id": "109e35d0-d5fe-4c9c-a183-76d76a68abee",
   "metadata": {},
   "outputs": [
    {
     "data": {
      "text/plain": [
       "True"
      ]
     },
     "execution_count": 17,
     "metadata": {},
     "output_type": "execute_result"
    }
   ],
   "source": [
    "s = \"egg\"\n",
    "t = \"add\"\n",
    "\n",
    "is_isomorphic(s,t)"
   ]
  },
  {
   "cell_type": "raw",
   "id": "9c1a6384-4c9e-4922-8968-965bff14352b",
   "metadata": {},
   "source": [
    "This function works by using two dictionaries (s_to_t and t_to_s) to keep track of the character mappings from s to t and from t to s. If a character in s or t has already been mapped to a different character, the function returns False."
   ]
  },
  {
   "cell_type": "code",
   "execution_count": null,
   "id": "0cdc81f6-d049-4869-8f99-1f041e4e8e4e",
   "metadata": {},
   "outputs": [],
   "source": []
  },
  {
   "cell_type": "markdown",
   "id": "3374b2ed-3667-4665-9828-8387364950c4",
   "metadata": {},
   "source": [
    "**Question 2**\n",
    "\n",
    "Given a string num which represents an integer, return true *if* num *is a **strobogrammatic number***.\n",
    "\n",
    "A **strobogrammatic number** is a number that looks the same when rotated 180 degrees (looked at upside down).\n",
    "\n",
    "**Example 1:**\n",
    "\n",
    "**Input:** num = \"69\"\n",
    "\n",
    "**Output:** true"
   ]
  },
  {
   "cell_type": "code",
   "execution_count": 18,
   "id": "af38ada7-7bd1-4222-b275-0737f9f3a251",
   "metadata": {},
   "outputs": [],
   "source": [
    "def is_strobogrammatic(num: str) -> bool:\n",
    "    strobo = {'0': '0', '1': '1', '6': '9', '8': '8', '9': '6'}\n",
    "    left, right = 0, len(num) - 1\n",
    "    while left <= right:\n",
    "        if num[left] not in strobo or strobo[num[left]] != num[right]:\n",
    "            return False\n",
    "        left += 1\n",
    "        right -= 1\n",
    "    return True"
   ]
  },
  {
   "cell_type": "code",
   "execution_count": 19,
   "id": "5d87e128-79f6-49dc-9754-feba9b7b2a4c",
   "metadata": {},
   "outputs": [
    {
     "data": {
      "text/plain": [
       "True"
      ]
     },
     "execution_count": 19,
     "metadata": {},
     "output_type": "execute_result"
    }
   ],
   "source": [
    "num = \"69\"\n",
    "\n",
    "is_strobogrammatic(num)"
   ]
  },
  {
   "cell_type": "raw",
   "id": "2906e5ec-4e68-4dd2-a348-f176ecfa102c",
   "metadata": {},
   "source": [
    "This function works by using two pointers (left and right) to compare characters from both ends of the string. If the characters are not strobogrammatic, the function returns False."
   ]
  },
  {
   "cell_type": "code",
   "execution_count": null,
   "id": "e6e804ff-3cc8-40fc-ba7a-0215e3872f6a",
   "metadata": {},
   "outputs": [],
   "source": []
  },
  {
   "cell_type": "markdown",
   "id": "b812d64a-e894-40f9-b627-24bf233ab271",
   "metadata": {},
   "source": [
    "**Question 3**\n",
    "\n",
    "Given two non-negative integers, num1 and num2 represented as string, return *the sum of* num1 *and* num2 *as a string*.\n",
    "\n",
    "You must solve the problem without using any built-in library for handling large integers (such as BigInteger). You must also not convert the inputs to integers directly.\n",
    "\n",
    "**Example 1:**\n",
    "\n",
    "**Input:** num1 = \"11\", num2 = \"123\"\n",
    "\n",
    "**Output:** \"134\""
   ]
  },
  {
   "cell_type": "code",
   "execution_count": 20,
   "id": "52abf737-bbd2-4c07-9ec1-584a5a71ba95",
   "metadata": {},
   "outputs": [],
   "source": [
    "def add_strings(num1: str, num2: str) -> str:\n",
    "    i, j, carry, result = len(num1) - 1, len(num2) - 1, 0, []\n",
    "    while i >= 0 or j >= 0 or carry:\n",
    "        n1 = int(num1[i]) if i >= 0 else 0\n",
    "        n2 = int(num2[j]) if j >= 0 else 0\n",
    "        carry, curr = divmod(n1 + n2 + carry, 10)\n",
    "        result.append(str(curr))\n",
    "        i, j = i - 1, j - 1\n",
    "    return ''.join(result[::-1])"
   ]
  },
  {
   "cell_type": "code",
   "execution_count": 21,
   "id": "1110928a-895e-44d5-af57-02e4462c8e40",
   "metadata": {},
   "outputs": [
    {
     "data": {
      "text/plain": [
       "'134'"
      ]
     },
     "execution_count": 21,
     "metadata": {},
     "output_type": "execute_result"
    }
   ],
   "source": [
    "num1 = \"11\"\n",
    "num2 = \"123\"\n",
    "\n",
    "add_strings(num1, num2)"
   ]
  },
  {
   "cell_type": "raw",
   "id": "0d43a48e-f216-4fa5-b221-3facb2d37894",
   "metadata": {},
   "source": [
    "This function works by using two pointers (i and j) to iterate over the digits of num1 and num2 from right to left and adding them together with a carry. The result is built digit by digit and then reversed to obtain the final result."
   ]
  },
  {
   "cell_type": "code",
   "execution_count": null,
   "id": "64b44a70-a27f-4083-9f85-d25475984640",
   "metadata": {},
   "outputs": [],
   "source": []
  },
  {
   "cell_type": "markdown",
   "id": "37f18e7e-030c-4e12-aba9-a4cdf1fe457b",
   "metadata": {},
   "source": [
    "**Question 4**\n",
    "\n",
    "Given a string s, reverse the order of characters in each word within a sentence while still preserving whitespace and initial word order.\n",
    "\n",
    "**Example 1:**\n",
    "\n",
    "**Input:** s = \"Let's take LeetCode contest\"\n",
    "\n",
    "**Output:** \"s'teL ekat edoCteeL tsetnoc\""
   ]
  },
  {
   "cell_type": "code",
   "execution_count": 22,
   "id": "e9f8fe90-3fe2-489b-a313-f5bc9292fcc7",
   "metadata": {},
   "outputs": [],
   "source": [
    "def reverse_words(s: str) -> str:\n",
    "    words = s.split()\n",
    "    reversed_words = [word[::-1] for word in words]\n",
    "    return ' '.join(reversed_words)"
   ]
  },
  {
   "cell_type": "raw",
   "id": "88494f82-01fb-461a-a6dd-2704f36253a5",
   "metadata": {},
   "source": [
    "This function works by splitting the sentence into words, reversing each word, and then joining them back into a sentence."
   ]
  },
  {
   "cell_type": "code",
   "execution_count": 23,
   "id": "a917d44b-e803-440b-87c8-da479ea8f491",
   "metadata": {},
   "outputs": [
    {
     "data": {
      "text/plain": [
       "\"s'teL ekat edoCteeL tsetnoc\""
      ]
     },
     "execution_count": 23,
     "metadata": {},
     "output_type": "execute_result"
    }
   ],
   "source": [
    "s = \"Let's take LeetCode contest\"\n",
    "\n",
    "reverse_words(s)"
   ]
  },
  {
   "cell_type": "markdown",
   "id": "43b2564d-2fcf-40c6-bcc9-f130fb6a5cc4",
   "metadata": {},
   "source": [
    "**Question 5**\n",
    "\n",
    "Given a string s and an integer k, reverse the first k characters for every 2k characters counting from the start of the string.\n",
    "\n",
    "If there are fewer than k characters left, reverse all of them. If there are less than 2k but greater than or equal to k characters, then reverse the first k characters and leave the other as original.\n",
    "\n",
    "**Example 1:**\n",
    "\n",
    "**Input:** s = \"abcdefg\", k = 2\n",
    "\n",
    "**Output:** \"bacdfeg\""
   ]
  },
  {
   "cell_type": "code",
   "execution_count": 24,
   "id": "033de0b5-888d-4c2c-af08-96c5ae1c3bfd",
   "metadata": {},
   "outputs": [],
   "source": [
    "def reverse_str(s: str, k: int) -> str:\n",
    "    s = list(s)\n",
    "    for i in range(0, len(s), 2*k):\n",
    "        s[i:i+k] = reversed(s[i:i+k])\n",
    "    return ''.join(s)"
   ]
  },
  {
   "cell_type": "code",
   "execution_count": 25,
   "id": "89eb6ca1-c7ec-4678-8a55-6a2ff0e448fb",
   "metadata": {},
   "outputs": [
    {
     "data": {
      "text/plain": [
       "'bacdfeg'"
      ]
     },
     "execution_count": 25,
     "metadata": {},
     "output_type": "execute_result"
    }
   ],
   "source": [
    "s = \"abcdefg\"\n",
    "k = 2\n",
    "\n",
    "reverse_str(s,k)"
   ]
  },
  {
   "cell_type": "raw",
   "id": "1c77b829-c8b3-455c-905f-027822d7f89d",
   "metadata": {},
   "source": [
    "This function works by converting the string into a list of characters and then using a loop to iterate over the start indices of each 2k-character block. For each block, it reverses the first k characters using slicing and the reversed function. Finally, it joins the characters back into a string."
   ]
  },
  {
   "cell_type": "code",
   "execution_count": null,
   "id": "1294ace2-f4e4-43ee-884d-ce844cd41bcf",
   "metadata": {},
   "outputs": [],
   "source": []
  },
  {
   "cell_type": "markdown",
   "id": "7d7e179c-faa5-4859-a438-c381a7cc0773",
   "metadata": {},
   "source": [
    "**Question 6**\n",
    "\n",
    "Given two strings s and goal, return true *if and only if* s *can become* goal *after some number of **shifts** on* s.\n",
    "\n",
    "A **shift** on s consists of moving the leftmost character of s to the rightmost position.\n",
    "\n",
    "- For example, if s = \"abcde\", then it will be \"bcdea\" after one shift.\n",
    "\n",
    "**Example 1:**\n",
    "\n",
    "**Input:** s = \"abcde\", goal = \"cdeab\"\n",
    "\n",
    "**Output:** true"
   ]
  },
  {
   "cell_type": "code",
   "execution_count": 26,
   "id": "eed70696-091f-4dff-9abc-fd87e044a726",
   "metadata": {},
   "outputs": [],
   "source": [
    "def rotate_string(s: str, goal: str) -> bool:\n",
    "    return len(s) == len(goal) and goal in s + s"
   ]
  },
  {
   "cell_type": "code",
   "execution_count": 27,
   "id": "c7cf2a4b-405f-4aab-9794-08468e153bf4",
   "metadata": {},
   "outputs": [
    {
     "data": {
      "text/plain": [
       "True"
      ]
     },
     "execution_count": 27,
     "metadata": {},
     "output_type": "execute_result"
    }
   ],
   "source": [
    "s = \"abcde\"\n",
    "goal = \"cdeab\"\n",
    "\n",
    "rotate_string(s, goal)"
   ]
  },
  {
   "cell_type": "raw",
   "id": "c105a051-6321-4834-bed0-93ec887b378b",
   "metadata": {},
   "source": [
    "This function works by checking if the length of s and goal are equal and if goal is a substring of s + s. If goal is a substring of s + s, it means that it can be obtained by shifting s some number of times."
   ]
  },
  {
   "cell_type": "code",
   "execution_count": null,
   "id": "792f2772-d176-4bae-bbb3-8bc133f76e21",
   "metadata": {},
   "outputs": [],
   "source": []
  },
  {
   "cell_type": "markdown",
   "id": "f1568cfc-f16b-4b91-b937-7e9899e51d6f",
   "metadata": {},
   "source": [
    "**Question 7**\n",
    "\n",
    "Given two strings s and t, return true *if they are equal when both are typed into empty text editors*. '#' means a backspace character.\n",
    "\n",
    "Note that after backspacing an empty text, the text will continue empty.\n",
    "\n",
    "**Example 1:**\n",
    "\n",
    "**Input:** s = \"ab#c\", t = \"ad#c\"\n",
    "\n",
    "**Output:** true\n",
    "\n",
    "**Explanation:**\n",
    "\n",
    "Both s and t become \"ac\"."
   ]
  },
  {
   "cell_type": "code",
   "execution_count": 28,
   "id": "21f0bb8c-5fd5-4a7a-97bb-3d014cf9ac01",
   "metadata": {},
   "outputs": [],
   "source": [
    "def backspace_compare(s: str, t: str) -> bool:\n",
    "    def build(string):\n",
    "        stack = []\n",
    "        for char in string:\n",
    "            if char != '#':\n",
    "                stack.append(char)\n",
    "            elif stack:\n",
    "                stack.pop()\n",
    "        return ''.join(stack)\n",
    "    return build(s) == build(t)"
   ]
  },
  {
   "cell_type": "code",
   "execution_count": 29,
   "id": "021fbdae-3811-4d80-88dc-4f3a89f21518",
   "metadata": {},
   "outputs": [
    {
     "data": {
      "text/plain": [
       "True"
      ]
     },
     "execution_count": 29,
     "metadata": {},
     "output_type": "execute_result"
    }
   ],
   "source": [
    "s = \"ab#c\"\n",
    "t = \"ad#c\"\n",
    "\n",
    "backspace_compare(s, t)"
   ]
  },
  {
   "cell_type": "raw",
   "id": "425f14ca-4682-4b47-bcfa-9ad63fb3e027",
   "metadata": {},
   "source": [
    "This function works by using a helper function build to process each string. The build function uses a stack to keep track of the characters in the string and simulates the typing of the string into an empty text editor. If a character is not '#', it is appended to the stack. If it is '#' and the stack is not empty, the top character is popped from the stack. Finally, the characters in the stack are joined into a string."
   ]
  },
  {
   "cell_type": "code",
   "execution_count": null,
   "id": "df75dfa8-0dd8-4683-b79d-210de963908e",
   "metadata": {},
   "outputs": [],
   "source": []
  },
  {
   "attachments": {
    "d2de9f85-5fcc-4b29-9c58-acfdde9b2ae2.png": {
     "image/png": "[encoded data removed]"
    }
   },
   "cell_type": "markdown",
   "id": "6c7e8f0c-bfad-4254-ae09-3cbccea24905",
   "metadata": {},
   "source": [
    "**Question 8**\n",
    "\n",
    "You are given an array coordinates, coordinates[i] = [x, y], where [x, y] represents the coordinate of a point. Check if these points make a straight line in the XY plane.\n",
    "\n",
    "**Example 1:**\n",
    "\n",
    "![Screenshot 2023-05-29 010117.png](attachment:d2de9f85-5fcc-4b29-9c58-acfdde9b2ae2.png)\n",
    "\n",
    "**Input:** coordinates = [[1,2],[2,3],[3,4],[4,5],[5,6],[6,7]]\n",
    "\n",
    "**Output:** true"
   ]
  },
  {
   "cell_type": "code",
   "execution_count": 31,
   "id": "fd3bc3e0-0b2a-4011-8e5a-c83decbecdb3",
   "metadata": {},
   "outputs": [],
   "source": [
    "from typing import List\n",
    "\n",
    "def check_straight_line(coordinates: List[List[int]]) -> bool:\n",
    "    if len(coordinates) < 2:\n",
    "        return False\n",
    "    x0, y0 = coordinates[0]\n",
    "    x1, y1 = coordinates[1]\n",
    "    for i in range(2, len(coordinates)):\n",
    "        x, y = coordinates[i]\n",
    "        if (y1 - y0) * (x1 - x0) != (y - y1) * (x - x1):\n",
    "            return False\n",
    "    return True"
   ]
  },
  {
   "cell_type": "code",
   "execution_count": 32,
   "id": "a1158d86-9513-4c66-aa26-4440de01ded2",
   "metadata": {},
   "outputs": [
    {
     "data": {
      "text/plain": [
       "False"
      ]
     },
     "execution_count": 32,
     "metadata": {},
     "output_type": "execute_result"
    }
   ],
   "source": [
    "coordinates = [[1,2],[2,3],[3,4],[4,5],[5,6],[6,7]]\n",
    "\n",
    "check_straight_line(coordinates)"
   ]
  },
  {
   "cell_type": "raw",
   "id": "f30a5705-a062-44ea-84c8-a5f9a4d30b45",
   "metadata": {},
   "source": [
    "This function works by using the cross product to check if the slope between any two points is the same. If the slope between any two points is not the same, it means that the points do not lie on a straight line and the function returns False."
   ]
  }
 ],
 "metadata": {
  "kernelspec": {
   "display_name": "Python 3 (ipykernel)",
   "language": "python",
   "name": "python3"
  },
  "language_info": {
   "codemirror_mode": {
    "name": "ipython",
    "version": 3
   },
   "file_extension": ".py",
   "mimetype": "text/x-python",
   "name": "python",
   "nbconvert_exporter": "python",
   "pygments_lexer": "ipython3",
   "version": "3.10.8"
  }
 },
 "nbformat": 4,
 "nbformat_minor": 5
}
